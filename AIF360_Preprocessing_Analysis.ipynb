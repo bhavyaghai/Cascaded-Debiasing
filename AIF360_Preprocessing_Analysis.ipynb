{
  "nbformat": 4,
  "nbformat_minor": 0,
  "metadata": {
    "colab": {
      "name": "AIF360 Preprocessing Analysis.ipynb",
      "provenance": [],
      "authorship_tag": "ABX9TyPuSYXKJfZ/E3rm/VIhJzd6",
      "include_colab_link": true
    },
    "kernelspec": {
      "name": "python3",
      "display_name": "Python 3"
    },
    "language_info": {
      "name": "python"
    }
  },
  "cells": [
    {
      "cell_type": "markdown",
      "metadata": {
        "id": "view-in-github",
        "colab_type": "text"
      },
      "source": [
        "<a href=\"https://colab.research.google.com/github/MihirMishra23/Fairness_Analysis/blob/master/AIF360_Preprocessing_Analysis.ipynb\" target=\"_parent\"><img src=\"https://colab.research.google.com/assets/colab-badge.svg\" alt=\"Open In Colab\"/></a>"
      ]
    },
    {
      "cell_type": "code",
      "metadata": {
        "colab": {
          "base_uri": "https://localhost:8080/"
        },
        "id": "wc8HQlm8S1WJ",
        "outputId": "aef32ffa-d18d-4a40-f48d-ad6e7335df25"
      },
      "source": [
        "import numpy as np\n",
        "\n",
        "import pandas as pd\n",
        "\n",
        "from sklearn.ensemble import RandomForestClassifier\n",
        "from sklearn.base import clone\n",
        "import sklearn\n",
        "\n",
        "%tensorflow_version 1.x\n",
        "import tensorflow as tf\n",
        "from tensorflow.keras.optimizers import SGD, Adam\n",
        "\n",
        "from aif360.datasets import AdultDataset, BankDataset, CompasDataset, GermanDataset\n",
        "from aif360.metrics import BinaryLabelDatasetMetric, ClassificationMetric\n",
        "from aif360.algorithms import preprocessing, inprocessing, postprocessing\n",
        "from aif360.algorithms.preprocessing.optim_preproc import OptimPreproc\n",
        "from aif360.algorithms.preprocessing.optim_preproc_helpers.data_preproc_functions\\\n",
        "            import load_preproc_data_adult, load_preproc_data_german, load_preproc_data_compas\n",
        "from aif360.algorithms.preprocessing.optim_preproc_helpers.distortion_functions\\\n",
        "            import get_distortion_adult, get_distortion_german, get_distortion_compas\n",
        "from aif360.algorithms.preprocessing.optim_preproc_helpers.opt_tools import OptTools\n",
        "\n",
        "from IPython.display import Markdown, display\n",
        "np.random.seed(1)"
      ],
      "execution_count": 1,
      "outputs": [
        {
          "output_type": "stream",
          "text": [
            "TensorFlow 1.x selected.\n"
          ],
          "name": "stdout"
        }
      ]
    },
    {
      "cell_type": "code",
      "metadata": {
        "colab": {
          "base_uri": "https://localhost:8080/"
        },
        "id": "T35i-_7XTkKl",
        "outputId": "f0a1583e-1ce3-4a30-fbf2-72227e6d198b"
      },
      "source": [
        ""
      ],
      "execution_count": 5,
      "outputs": [
        {
          "output_type": "stream",
          "text": [
            "Collecting fairlearn\n",
            "\u001b[?25l  Downloading https://files.pythonhosted.org/packages/f9/22/93697472801e44344b5f7c3653762c4a143774f62b2a8bf97e7e7b1f7afa/fairlearn-0.7.0-py3-none-any.whl (177kB)\n",
            "\r\u001b[K     |█▉                              | 10kB 16.7MB/s eta 0:00:01\r\u001b[K     |███▊                            | 20kB 21.4MB/s eta 0:00:01\r\u001b[K     |█████▌                          | 30kB 15.5MB/s eta 0:00:01\r\u001b[K     |███████▍                        | 40kB 14.1MB/s eta 0:00:01\r\u001b[K     |█████████▎                      | 51kB 7.5MB/s eta 0:00:01\r\u001b[K     |███████████                     | 61kB 7.2MB/s eta 0:00:01\r\u001b[K     |█████████████                   | 71kB 8.1MB/s eta 0:00:01\r\u001b[K     |██████████████▊                 | 81kB 8.5MB/s eta 0:00:01\r\u001b[K     |████████████████▋               | 92kB 8.8MB/s eta 0:00:01\r\u001b[K     |██████████████████▌             | 102kB 7.2MB/s eta 0:00:01\r\u001b[K     |████████████████████▎           | 112kB 7.2MB/s eta 0:00:01\r\u001b[K     |██████████████████████▏         | 122kB 7.2MB/s eta 0:00:01\r\u001b[K     |████████████████████████        | 133kB 7.2MB/s eta 0:00:01\r\u001b[K     |█████████████████████████▉      | 143kB 7.2MB/s eta 0:00:01\r\u001b[K     |███████████████████████████▊    | 153kB 7.2MB/s eta 0:00:01\r\u001b[K     |█████████████████████████████▌  | 163kB 7.2MB/s eta 0:00:01\r\u001b[K     |███████████████████████████████▍| 174kB 7.2MB/s eta 0:00:01\r\u001b[K     |████████████████████████████████| 184kB 7.2MB/s \n",
            "\u001b[?25hRequirement already satisfied: scipy>=1.4.1 in /usr/local/lib/python3.7/dist-packages (from fairlearn) (1.4.1)\n",
            "Requirement already satisfied: numpy>=1.17.2 in /usr/local/lib/python3.7/dist-packages (from fairlearn) (1.19.5)\n",
            "Requirement already satisfied: pandas>=0.25.1 in /usr/local/lib/python3.7/dist-packages (from fairlearn) (1.1.5)\n",
            "Requirement already satisfied: scikit-learn>=0.22.1 in /usr/local/lib/python3.7/dist-packages (from fairlearn) (0.22.2.post1)\n",
            "Requirement already satisfied: pytz>=2017.2 in /usr/local/lib/python3.7/dist-packages (from pandas>=0.25.1->fairlearn) (2018.9)\n",
            "Requirement already satisfied: python-dateutil>=2.7.3 in /usr/local/lib/python3.7/dist-packages (from pandas>=0.25.1->fairlearn) (2.8.1)\n",
            "Requirement already satisfied: joblib>=0.11 in /usr/local/lib/python3.7/dist-packages (from scikit-learn>=0.22.1->fairlearn) (1.0.1)\n",
            "Requirement already satisfied: six>=1.5 in /usr/local/lib/python3.7/dist-packages (from python-dateutil>=2.7.3->pandas>=0.25.1->fairlearn) (1.15.0)\n",
            "Installing collected packages: fairlearn\n",
            "Successfully installed fairlearn-0.7.0\n"
          ],
          "name": "stdout"
        }
      ]
    }
  ]
}