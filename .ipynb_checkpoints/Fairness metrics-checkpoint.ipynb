{
 "cells": [
  {
   "cell_type": "code",
   "execution_count": 7,
   "metadata": {},
   "outputs": [],
   "source": [
    "from matplotlib import pyplot as plt\n",
    "import matplotlib\n",
    "import numpy as np\n",
    "import pandas as pd\n",
    "import pandas\n",
    "from IPython.display import display"
   ]
  },
  {
   "cell_type": "code",
   "execution_count": 8,
   "metadata": {},
   "outputs": [],
   "source": [
    "'''\n",
    "adult_df = pandas.read_csv(\"./data/adult.csv\", index_col=0)\n",
    "compas_df = pandas.read_csv(\"./data/compas.csv\", index_col=0)\n",
    "bank_df = pandas.read_csv(\"./data/bank.csv\", index_col=0)\n",
    "german_df = pandas.read_csv(\"./data/german.csv\", index_col=0)\n",
    "\n",
    "'''\n",
    "\n",
    "adult_df = pandas.read_csv(\"./data/All_Data -adult.csv\", index_col=0)\n",
    "compas_df = pandas.read_csv(\"./data/All_Data -compas.csv\", index_col=0)\n",
    "bank_df = pandas.read_csv(\"./data/All_Data -bank.csv\", index_col=0)\n",
    "german_df = pandas.read_csv(\"./data/All_Data -german.csv\", index_col=0)\n",
    "\n",
    "\n",
    "for df in [adult_df, compas_df, bank_df, german_df]:\n",
    "    df[\"False Positive Rate Diff\"] = df[\"False Positive Rate - Unprivileged\"] - df[\"False Positive Rate - Privileged\"]\n",
    "    df[\"False Negative Rate Diff\"] = df[\"False Negative Rate - Unprivileged\"] - df[\"False Negative Rate - Privileged\"]\n",
    "    df[\"False Omission Rate Diff\"] = df[\"False Omission Rate - Unprivileged\"] - df[\"False Omission Rate - Privileged\"]\n",
    "    df[\"False Discovery Rate Diff\"] = df[\"False Discovery Rate - Unprivileged\"] - df[\"False Discovery Rate - Privileged\"]\n",
    "    df[\"Statistical Parity Diff\"] = df[\"Privileged base Rate\"] - df[\"Unprivileged base Rate\"] \n",
    "    df[\"Accuracy Diff\"] = df[\"Accuracy - Privileged\"] - df[\"Accuracy - Unprivileged\"] \n",
    "    df[\"F1 Score Diff\"] = df[\"F1 Score - Privileged\"] - df[\"F1 Score - Unprivileged\"] \n",
    "    df[\"base Rate\"] = (df[\"Num True Pos\"] + df[\"Num False Pos\"])/(df[\"Num True Pos\"] + df[\"Num True Neg\"] + df[\"Num False Pos\"] + df[\"Num False Neg\"])\n",
    "    for metric in df.columns:\n",
    "        if \"Num\" in metric:\n",
    "            df.drop(metric, axis=1, inplace=True)"
   ]
  },
  {
   "cell_type": "code",
   "execution_count": 9,
   "metadata": {
    "scrolled": true
   },
   "outputs": [
    {
     "name": "stdout",
     "output_type": "stream",
     "text": [
      "['Logistic Regression - 3', 'Logistic Regression - 11', 'Logistic Regression - 17']\n",
      "['OP - 3', 'OP - 11', 'OP - 17', 'DIR - 3', 'DIR - 11', 'DIR - 17', 'EOP - 3', 'EOP - 11', 'EOP - 17', 'CEOP - 3', 'CEOP - 11', 'CEOP - 17', 'ROC - 3', 'ROC - 11', 'ROC - 17', 'GFC - 3', 'GFC - 11', 'GFC - 17', 'PR - 3', 'PR - 11', 'PR - 17', 'EGR - 3', 'EGR - 11', 'EGR - 17', 'GSR - 3', 'GSR - 11', 'GSR - 17']\n",
      "['OP + EOP - 3', 'OP + EOP - 11', 'OP + EOP - 17', 'OP + CEOP - 3', 'OP + CEOP - 11', 'OP + CEOP - 17', 'OP + ROC - 3', 'OP + ROC - 11', 'OP + ROC - 17', 'OP + GFC - 3', 'OP + GFC - 11', 'OP + GFC - 17', 'OP + PR - 3', 'OP + PR - 11', 'OP + PR - 17', 'OP + EGR - 3', 'OP + EGR - 11', 'OP + EGR - 17', 'OP + GSR - 3', 'OP + GSR - 11', 'OP + GSR - 17', 'DIR + EOP - 3', 'DIR + EOP - 11', 'DIR + EOP - 17', 'DIR + CEOP - 3', 'DIR + CEOP - 11', 'DIR + CEOP - 17', 'DIR + ROC - 3', 'DIR + ROC - 11', 'DIR + ROC - 17', 'DIR + GFC - 3', 'DIR + GFC - 11', 'DIR + GFC - 17', 'DIR + PR - 3', 'DIR + PR - 11', 'DIR + PR - 17', 'DIR + EGR - 3', 'DIR + EGR - 11', 'DIR + EGR - 17', 'DIR + GSR - 3', 'DIR + GSR - 11', 'DIR + GSR - 17', 'GFC + EOP - 3', 'GFC + EOP - 11', 'GFC + EOP - 17', 'GFC + CEOP - 3', 'GFC + CEOP - 11', 'GFC + CEOP - 17', 'GFC + ROC - 3', 'GFC + ROC - 11', 'GFC + ROC - 17', 'PR + EOP - 3', 'PR + EOP - 11', 'PR + EOP - 17', 'PR + CEOP - 3', 'PR + CEOP - 11', 'PR + CEOP - 17', 'PR + ROC - 3', 'PR + ROC - 11', 'PR + ROC - 17', 'EGR + EOP - 3', 'EGR + EOP - 11', 'EGR + EOP - 17', 'EGR + CEOP - 3', 'EGR + CEOP - 11', 'EGR + CEOP - 17', 'EGR + ROC - 3', 'EGR + ROC - 11', 'EGR + ROC - 17', 'GSR + EOP - 3', 'GSR + EOP - 11', 'GSR + EOP - 17', 'GSR + CEOP - 3', 'GSR + CEOP - 11', 'GSR + CEOP - 17', 'GSR + ROC - 3', 'GSR + ROC - 11', 'GSR + ROC - 17']\n",
      "['OP + GFC + EOP - 3', 'OP + GFC + EOP - 11', 'OP + GFC + EOP - 17', 'OP + GFC + CEOP - 3', 'OP + GFC + CEOP - 11', 'OP + GFC + CEOP - 17', 'OP + GFC + ROC - 3', 'OP + GFC + ROC - 11', 'OP + GFC + ROC - 17', 'OP + PR + EOP - 3', 'OP + PR + EOP - 11', 'OP + PR + EOP - 17', 'OP + PR + CEOP - 3', 'OP + PR + CEOP - 11', 'OP + PR + CEOP - 17', 'OP + PR + ROC - 3', 'OP + PR + ROC - 11', 'OP + PR + ROC - 17', 'OP + EGR + EOP - 3', 'OP + EGR + EOP - 11', 'OP + EGR + EOP - 17', 'OP + EGR + CEOP - 3', 'OP + EGR + CEOP - 11', 'OP + EGR + CEOP - 17', 'OP + EGR + ROC - 3', 'OP + EGR + ROC - 11', 'OP + EGR + ROC - 17', 'OP + GSR + EOP - 3', 'OP + GSR + EOP - 11', 'OP + GSR + EOP - 17', 'OP + GSR + CEOP - 3', 'OP + GSR + CEOP - 11', 'OP + GSR + CEOP - 17', 'OP + GSR + ROC - 3', 'OP + GSR + ROC - 11', 'OP + GSR + ROC - 17', 'DIR + GFC + EOP - 3', 'DIR + GFC + EOP - 11', 'DIR + GFC + EOP - 17', 'DIR + GFC + CEOP - 3', 'DIR + GFC + CEOP - 11', 'DIR + GFC + CEOP - 17', 'DIR + GFC + ROC - 3', 'DIR + GFC + ROC - 11', 'DIR + GFC + ROC - 17', 'DIR + PR + EOP - 3', 'DIR + PR + EOP - 11', 'DIR + PR + EOP - 17', 'DIR + PR + CEOP - 3', 'DIR + PR + CEOP - 11', 'DIR + PR + CEOP - 17', 'DIR + PR + ROC - 3', 'DIR + PR + ROC - 11', 'DIR + PR + ROC - 17', 'DIR + EGR + EOP - 3', 'DIR + EGR + EOP - 11', 'DIR + EGR + EOP - 17', 'DIR + EGR + CEOP - 3', 'DIR + EGR + CEOP - 11', 'DIR + EGR + CEOP - 17', 'DIR + EGR + ROC - 3', 'DIR + EGR + ROC - 11', 'DIR + EGR + ROC - 17', 'DIR + GSR + EOP - 3', 'DIR + GSR + EOP - 11', 'DIR + GSR + EOP - 17', 'DIR + GSR + CEOP - 3', 'DIR + GSR + CEOP - 11', 'DIR + GSR + CEOP - 17', 'DIR + GSR + ROC - 3', 'DIR + GSR + ROC - 11', 'DIR + GSR + ROC - 17']\n"
     ]
    }
   ],
   "source": [
    "def num_interventions(name):\n",
    "    if \"Logistic Regression\" in name:\n",
    "        return 0\n",
    "    if name.count('+') == 0:\n",
    "        return 1\n",
    "    if name.count('+') == 1:\n",
    "        return 2\n",
    "    if name.count('+') == 2:\n",
    "        return 3\n",
    "    \n",
    "no_int = []\n",
    "one_int = []\n",
    "two_int = []\n",
    "three_int = []\n",
    "for row in list(adult_df.index):\n",
    "    if num_interventions(row) == 0:\n",
    "        no_int.append(row)\n",
    "    elif num_interventions(row) == 1:\n",
    "        one_int.append(row)\n",
    "    elif num_interventions(row) == 2:\n",
    "        two_int.append(row)\n",
    "    elif num_interventions(row) == 3:\n",
    "        three_int.append(row)\n",
    "        \n",
    "print(no_int)\n",
    "print(one_int)\n",
    "print(two_int)\n",
    "print(three_int)"
   ]
  },
  {
   "cell_type": "code",
   "execution_count": 10,
   "metadata": {},
   "outputs": [
    {
     "data": {
      "text/plain": [
       "['False Positive Rate Diff',\n",
       " 'False Negative Rate Diff',\n",
       " 'False Omission Rate Diff',\n",
       " 'False Discovery Rate Diff',\n",
       " 'Statistical Parity Diff',\n",
       " 'Accuracy Diff',\n",
       " 'F1 Score Diff']"
      ]
     },
     "execution_count": 10,
     "metadata": {},
     "output_type": "execute_result"
    }
   ],
   "source": [
    "col_names = []\n",
    "for c in adult_df.columns:\n",
    "    if \"Diff\" in c:\n",
    "        col_names.append(c)\n",
    "\n",
    "col_names #= ['False Positive Rate Diff']"
   ]
  },
  {
   "cell_type": "code",
   "execution_count": 11,
   "metadata": {},
   "outputs": [
    {
     "data": {
      "text/html": [
       "<div>\n",
       "<style scoped>\n",
       "    .dataframe tbody tr th:only-of-type {\n",
       "        vertical-align: middle;\n",
       "    }\n",
       "\n",
       "    .dataframe tbody tr th {\n",
       "        vertical-align: top;\n",
       "    }\n",
       "\n",
       "    .dataframe thead th {\n",
       "        text-align: right;\n",
       "    }\n",
       "</style>\n",
       "<table border=\"1\" class=\"dataframe\">\n",
       "  <thead>\n",
       "    <tr style=\"text-align: right;\">\n",
       "      <th></th>\n",
       "      <th>False Positive Rate Diff</th>\n",
       "      <th>False Negative Rate Diff</th>\n",
       "      <th>False Omission Rate Diff</th>\n",
       "      <th>False Discovery Rate Diff</th>\n",
       "      <th>Statistical Parity Diff</th>\n",
       "      <th>Accuracy Diff</th>\n",
       "      <th>F1 Score Diff</th>\n",
       "    </tr>\n",
       "  </thead>\n",
       "  <tbody>\n",
       "    <tr>\n",
       "      <th>OP - 3</th>\n",
       "      <td>-0.0387</td>\n",
       "      <td>0.1468</td>\n",
       "      <td>-0.1392</td>\n",
       "      <td>0.3015</td>\n",
       "      <td>0.1167</td>\n",
       "      <td>-0.1145</td>\n",
       "      <td>0.2041</td>\n",
       "    </tr>\n",
       "    <tr>\n",
       "      <th>OP - 11</th>\n",
       "      <td>-0.0351</td>\n",
       "      <td>0.1628</td>\n",
       "      <td>-0.1363</td>\n",
       "      <td>0.3375</td>\n",
       "      <td>0.1134</td>\n",
       "      <td>-0.1101</td>\n",
       "      <td>0.2294</td>\n",
       "    </tr>\n",
       "    <tr>\n",
       "      <th>OP - 17</th>\n",
       "      <td>-0.0399</td>\n",
       "      <td>0.1679</td>\n",
       "      <td>-0.1196</td>\n",
       "      <td>0.3013</td>\n",
       "      <td>0.1185</td>\n",
       "      <td>-0.0987</td>\n",
       "      <td>0.2213</td>\n",
       "    </tr>\n",
       "    <tr>\n",
       "      <th>OP + EOP - 3</th>\n",
       "      <td>-0.0006</td>\n",
       "      <td>-0.0077</td>\n",
       "      <td>-0.1755</td>\n",
       "      <td>0.3059</td>\n",
       "      <td>0.0420</td>\n",
       "      <td>-0.1369</td>\n",
       "      <td>0.0719</td>\n",
       "    </tr>\n",
       "    <tr>\n",
       "      <th>OP + EOP - 11</th>\n",
       "      <td>0.0063</td>\n",
       "      <td>0.0145</td>\n",
       "      <td>-0.1698</td>\n",
       "      <td>0.3526</td>\n",
       "      <td>0.0386</td>\n",
       "      <td>-0.1240</td>\n",
       "      <td>0.1143</td>\n",
       "    </tr>\n",
       "    <tr>\n",
       "      <th>...</th>\n",
       "      <td>...</td>\n",
       "      <td>...</td>\n",
       "      <td>...</td>\n",
       "      <td>...</td>\n",
       "      <td>...</td>\n",
       "      <td>...</td>\n",
       "      <td>...</td>\n",
       "    </tr>\n",
       "    <tr>\n",
       "      <th>GSR + CEOP - 11</th>\n",
       "      <td>0.1343</td>\n",
       "      <td>-0.4699</td>\n",
       "      <td>-0.2010</td>\n",
       "      <td>0.4328</td>\n",
       "      <td>-0.0986</td>\n",
       "      <td>-0.0453</td>\n",
       "      <td>-0.0002</td>\n",
       "    </tr>\n",
       "    <tr>\n",
       "      <th>GSR + CEOP - 17</th>\n",
       "      <td>-0.0728</td>\n",
       "      <td>0.5255</td>\n",
       "      <td>-0.0701</td>\n",
       "      <td>-0.2349</td>\n",
       "      <td>0.2136</td>\n",
       "      <td>-0.0802</td>\n",
       "      <td>0.6231</td>\n",
       "    </tr>\n",
       "    <tr>\n",
       "      <th>GSR + ROC - 3</th>\n",
       "      <td>0.0630</td>\n",
       "      <td>-0.1368</td>\n",
       "      <td>-0.0979</td>\n",
       "      <td>0.3297</td>\n",
       "      <td>0.0420</td>\n",
       "      <td>0.0378</td>\n",
       "      <td>0.2456</td>\n",
       "    </tr>\n",
       "    <tr>\n",
       "      <th>GSR + ROC - 11</th>\n",
       "      <td>0.0229</td>\n",
       "      <td>-0.4365</td>\n",
       "      <td>-0.2328</td>\n",
       "      <td>0.2328</td>\n",
       "      <td>-0.0482</td>\n",
       "      <td>-0.2068</td>\n",
       "      <td>-0.4321</td>\n",
       "    </tr>\n",
       "    <tr>\n",
       "      <th>GSR + ROC - 17</th>\n",
       "      <td>0.0408</td>\n",
       "      <td>-0.1781</td>\n",
       "      <td>-0.1118</td>\n",
       "      <td>0.2925</td>\n",
       "      <td>0.0508</td>\n",
       "      <td>0.0002</td>\n",
       "      <td>0.1796</td>\n",
       "    </tr>\n",
       "  </tbody>\n",
       "</table>\n",
       "<p>180 rows × 7 columns</p>\n",
       "</div>"
      ],
      "text/plain": [
       "                 False Positive Rate Diff  False Negative Rate Diff  \\\n",
       "OP - 3                            -0.0387                    0.1468   \n",
       "OP - 11                           -0.0351                    0.1628   \n",
       "OP - 17                           -0.0399                    0.1679   \n",
       "OP + EOP - 3                      -0.0006                   -0.0077   \n",
       "OP + EOP - 11                      0.0063                    0.0145   \n",
       "...                                   ...                       ...   \n",
       "GSR + CEOP - 11                    0.1343                   -0.4699   \n",
       "GSR + CEOP - 17                   -0.0728                    0.5255   \n",
       "GSR + ROC - 3                      0.0630                   -0.1368   \n",
       "GSR + ROC - 11                     0.0229                   -0.4365   \n",
       "GSR + ROC - 17                     0.0408                   -0.1781   \n",
       "\n",
       "                 False Omission Rate Diff  False Discovery Rate Diff  \\\n",
       "OP - 3                            -0.1392                     0.3015   \n",
       "OP - 11                           -0.1363                     0.3375   \n",
       "OP - 17                           -0.1196                     0.3013   \n",
       "OP + EOP - 3                      -0.1755                     0.3059   \n",
       "OP + EOP - 11                     -0.1698                     0.3526   \n",
       "...                                   ...                        ...   \n",
       "GSR + CEOP - 11                   -0.2010                     0.4328   \n",
       "GSR + CEOP - 17                   -0.0701                    -0.2349   \n",
       "GSR + ROC - 3                     -0.0979                     0.3297   \n",
       "GSR + ROC - 11                    -0.2328                     0.2328   \n",
       "GSR + ROC - 17                    -0.1118                     0.2925   \n",
       "\n",
       "                 Statistical Parity Diff  Accuracy Diff  F1 Score Diff  \n",
       "OP - 3                            0.1167        -0.1145         0.2041  \n",
       "OP - 11                           0.1134        -0.1101         0.2294  \n",
       "OP - 17                           0.1185        -0.0987         0.2213  \n",
       "OP + EOP - 3                      0.0420        -0.1369         0.0719  \n",
       "OP + EOP - 11                     0.0386        -0.1240         0.1143  \n",
       "...                                  ...            ...            ...  \n",
       "GSR + CEOP - 11                  -0.0986        -0.0453        -0.0002  \n",
       "GSR + CEOP - 17                   0.2136        -0.0802         0.6231  \n",
       "GSR + ROC - 3                     0.0420         0.0378         0.2456  \n",
       "GSR + ROC - 11                   -0.0482        -0.2068        -0.4321  \n",
       "GSR + ROC - 17                    0.0508         0.0002         0.1796  \n",
       "\n",
       "[180 rows x 7 columns]"
      ]
     },
     "execution_count": 11,
     "metadata": {},
     "output_type": "execute_result"
    }
   ],
   "source": [
    "adult_df[col_names]"
   ]
  },
  {
   "cell_type": "code",
   "execution_count": 12,
   "metadata": {},
   "outputs": [
    {
     "name": "stdout",
     "output_type": "stream",
     "text": [
      "0 12 0.023809523809523808\n",
      "1 105 0.09251700680272107\n",
      "2 291 0.10260186548846342\n",
      "3 252 0.12414965986394555\n"
     ]
    }
   ],
   "source": [
    "priv = {0:[], 1:[], 2:[], 3:[]}\n",
    "for dataset in [adult_df, german_df, compas_df, bank_df]:\n",
    "    d_sub = dataset[col_names]\n",
    "    d_sub = np.sum(abs(d_sub)<=0.01, axis=1)/len(col_names)\n",
    "    for inter, val in d_sub.items():\n",
    "        k = num_interventions(inter)\n",
    "        priv[k].append(val)\n",
    "\n",
    "y_mean = []\n",
    "for k in priv:\n",
    "    print(k, len(priv[k]), np.mean(priv[k]))\n",
    "    y_mean.append(round(np.mean(priv[k])*100))"
   ]
  },
  {
   "cell_type": "code",
   "execution_count": 66,
   "metadata": {},
   "outputs": [
    {
     "data": {
      "image/png": "[encoded data removed]",
      "text/plain": [
       "<Figure size 504x360 with 1 Axes>"
      ]
     },
     "metadata": {
      "needs_background": "light"
     },
     "output_type": "display_data"
    }
   ],
   "source": [
    "# percent of times privileged group performed worse than unprivileged group\n",
    "x = [\"Zero\", \"One\", \"Two\", \"Three\"]\n",
    "fig, ax = plt.subplots(figsize=(7, 5))\n",
    "c = 'sandybrown'\n",
    "rects1 = ax.bar(x, y_mean, color=c, edgecolor=c, alpha=0.55, width=0.6, linewidth=2)\n",
    "\n",
    "plt.rcParams.update({'font.size': 17})\n",
    "ax.spines['top'].set_visible(False)\n",
    "ax.spines['right'].set_visible(False)\n",
    "ax.spines['left'].set_visible(False)\n",
    "ax.spines['bottom'].set_color('#DDDDDD')\n",
    "ax.tick_params(bottom=False, left=False)\n",
    "ax.set_axisbelow(True)\n",
    "ax.yaxis.grid(True, color='#EEEEEE')\n",
    "ax.xaxis.grid(False)\n",
    "ax.bar_label(rects1, padding=3)\n",
    "ax.set_ylim([0, 14])\n",
    "\n",
    "ax.set_ylabel('% times disparity <1%')\n",
    "#ax.set_ylabel('Group Fairness')\n",
    "ax.set_xlabel('Number of Interventions')\n",
    "\n",
    "fig.tight_layout()\n",
    "#plt.show()\n",
    "fig.savefig('./figures/group_fair_inter.png', dpi=600)"
   ]
  },
  {
   "cell_type": "markdown",
   "metadata": {},
   "source": [
    "<h3>Individual Bias</h3>"
   ]
  },
  {
   "cell_type": "code",
   "execution_count": 49,
   "metadata": {},
   "outputs": [
    {
     "data": {
      "text/plain": [
       "([14, 16, 19, 19], [89, 90, 91, 91])"
      ]
     },
     "execution_count": 49,
     "metadata": {},
     "output_type": "execute_result"
    }
   ],
   "source": [
    "ind_bias = {0:{\"theil\":[], \"consis\":[]}, 1:{\"theil\":[], \"consis\":[]}, 2:{\"theil\":[], \"consis\":[]}, 3:{\"theil\":[], \"consis\":[]}}\n",
    "for dataset in [adult_df, german_df, compas_df, bank_df]:\n",
    "    d = dataset[[\"Theil Index\", \"Consistency\"]]\n",
    "    for index, row in d.iterrows():\n",
    "        k = num_interventions(index)\n",
    "        #print(index, k, row[\"Theil Index\"], row[\"Consistency\"])\n",
    "        ind_bias[k][\"theil\"].append(row[\"Theil Index\"])\n",
    "        ind_bias[k][\"consis\"].append(row[\"Consistency\"])\n",
    "\n",
    "theil_mean = [round(np.mean(ind_bias[k][\"theil\"])*100) for k in [0,1,2,3]]\n",
    "consis_mean = [round(np.mean(ind_bias[k][\"consis\"])*100) for k in [0,1,2,3]]\n",
    "theil_mean, consis_mean "
   ]
  },
  {
   "cell_type": "code",
   "execution_count": 50,
   "metadata": {},
   "outputs": [
    {
     "data": {
      "image/png": "[encoded data removed]",
      "text/plain": [
       "<Figure size 648x360 with 1 Axes>"
      ]
     },
     "metadata": {
      "needs_background": "light"
     },
     "output_type": "display_data"
    }
   ],
   "source": [
    "# percent of times privileged group performed worse than unprivileged group\n",
    "x = np.arange(4)\n",
    "x_lab = [\"Zero\", \"One\", \"Two\", \"Three\"]\n",
    "fig, ax = plt.subplots(figsize=(9, 5))\n",
    "\n",
    "width = 0.4 \n",
    "c1, c2 = 'royalblue', 'darksalmon'\n",
    "rects1 = ax.bar(x - width/2, theil_mean, label='Theil Index', color=c1, edgecolor=c1, linewidth=2, alpha=0.65, width=0.33, hatch='.')\n",
    "rects2 = ax.bar(x + width/2, consis_mean, label='Consistency', color=c2, edgecolor=c2, linewidth=2, alpha=0.4, width=0.33, hatch='x')\n",
    "\n",
    "plt.rcParams.update({'font.size': 17})\n",
    "ax.spines['top'].set_visible(False)\n",
    "ax.spines['right'].set_visible(False)\n",
    "ax.spines['left'].set_visible(False)\n",
    "ax.spines['bottom'].set_color('#DDDDDD')\n",
    "ax.tick_params(bottom=False, left=False)\n",
    "ax.set_axisbelow(True)\n",
    "ax.yaxis.grid(True, color='#EEEEEE')\n",
    "ax.xaxis.grid(False)\n",
    "ax.bar_label(rects1, padding=3)\n",
    "ax.bar_label(rects2, padding=3)\n",
    "ax.set_ylim([0, 109])\n",
    "ax.set_xticks(x, x_lab)\n",
    "#ax.set_ylabel('% of times group fairness metric <0.01')\n",
    "ax.set_ylabel('Theil, Consistency (10^-2)')\n",
    "ax.set_xlabel('Number of Interventions')\n",
    "ax.legend(bbox_to_anchor=(0.5, 1.13), loc='upper center', ncol=2)\n",
    "fig.tight_layout()\n",
    "#plt.show()\n",
    "fig.savefig('./figures/ind_fair.png', dpi=600)"
   ]
  },
  {
   "cell_type": "markdown",
   "metadata": {},
   "source": [
    "<h3>% Dominanace</h3>"
   ]
  },
  {
   "cell_type": "code",
   "execution_count": 51,
   "metadata": {},
   "outputs": [
    {
     "data": {
      "text/plain": [
       "([56, 53, 52, 53], [42, 38, 38, 35])"
      ]
     },
     "execution_count": 51,
     "metadata": {},
     "output_type": "execute_result"
    }
   ],
   "source": [
    "# percentage of times one group is dominant over the other\n",
    "priv_dom = {0:[], 1:[], 2:[], 3:[]}\n",
    "unpriv_dom = {0:[], 1:[], 2:[], 3:[]}\n",
    "thresh = 0.01\n",
    "for dataset in [adult_df, german_df, compas_df, bank_df]:\n",
    "#for dataset in [adult_df, compas_df]:\n",
    "    d_sub = dataset[col_names]\n",
    "    #d_sub = dataset[[\"False Positive Rate Diff\"]]\n",
    "    priv_dom_df = np.sum(d_sub>thresh, axis=1)/len(col_names)\n",
    "    unpriv_dom_df = np.sum(d_sub< -thresh, axis=1)/len(col_names)\n",
    "    for inter, val in priv_dom_df.items():\n",
    "        k = num_interventions(inter)\n",
    "        priv_dom[k].append(priv_dom_df.loc[inter])\n",
    "        unpriv_dom[k].append(unpriv_dom_df.loc[inter])\n",
    "\n",
    "priv_dom_mean = [round(np.mean(priv_dom[k])*100) for k in [0,1,2,3]]\n",
    "unpriv_dom_mean = [round(np.mean(unpriv_dom[k])*100) for k in [0,1,2,3]]\n",
    "priv_dom_mean, unpriv_dom_mean "
   ]
  },
  {
   "cell_type": "code",
   "execution_count": 52,
   "metadata": {},
   "outputs": [
    {
     "data": {
      "image/png": "[encoded data removed]",
      "text/plain": [
       "<Figure size 504x360 with 1 Axes>"
      ]
     },
     "metadata": {
      "needs_background": "light"
     },
     "output_type": "display_data"
    }
   ],
   "source": [
    "# percent of times privileged group performed worse than unprivileged group\n",
    "x = np.arange(4)\n",
    "x_lab = [\"Zero\", \"One\", \"Two\", \"Three\"]\n",
    "fig, ax = plt.subplots(figsize=(7, 5))\n",
    "\n",
    "width = 0.35\n",
    "rects1 = ax.bar(x - width/2, priv_dom_mean, label='Privileged', color='steelblue', edgecolor='steelblue', alpha=0.8, width=0.32)\n",
    "rects2 = ax.bar(x + width/2, unpriv_dom_mean, label='Unprivileged', color='orange', edgecolor='orange', alpha=0.8, width=0.32)\n",
    "\n",
    "plt.rcParams.update({'font.size': 14})\n",
    "ax.spines['top'].set_visible(False)\n",
    "ax.spines['right'].set_visible(False)\n",
    "ax.spines['left'].set_visible(False)\n",
    "ax.spines['bottom'].set_color('#DDDDDD')\n",
    "ax.tick_params(bottom=False, left=False)\n",
    "ax.set_axisbelow(True)\n",
    "ax.yaxis.grid(True, color='#EEEEEE')\n",
    "ax.xaxis.grid(False)\n",
    "ax.bar_label(rects1, padding=3)\n",
    "ax.bar_label(rects2, padding=3)\n",
    "ax.set_ylim([0, 63])\n",
    "ax.set_xticks(x, x_lab)\n",
    "#ax.set_ylabel('% of times group fairness metric <0.01')\n",
    "ax.set_ylabel('% dominance')\n",
    "ax.set_xlabel('Number of Interventions')\n",
    "ax.legend(loc=4, ncol=1)\n",
    "fig.tight_layout()\n",
    "#plt.show()\n",
    "fig.savefig('./figures/priv_unpriv_dom.png', dpi=600)"
   ]
  },
  {
   "cell_type": "markdown",
   "metadata": {},
   "source": [
    "<h3>Base Rate</h3>"
   ]
  },
  {
   "cell_type": "code",
   "execution_count": 20,
   "metadata": {},
   "outputs": [
    {
     "data": {
      "text/plain": [
       "OP - 3             0.203430\n",
       "OP - 11            0.201515\n",
       "OP - 17            0.212598\n",
       "OP + EOP - 3       0.128713\n",
       "OP + EOP - 11      0.134275\n",
       "                     ...   \n",
       "GSR + CEOP - 11    0.155305\n",
       "GSR + CEOP - 17    0.213572\n",
       "GSR + ROC - 3      0.384903\n",
       "GSR + ROC - 11     0.036168\n",
       "GSR + ROC - 17     0.356460\n",
       "Length: 180, dtype: float64"
      ]
     },
     "execution_count": 20,
     "metadata": {},
     "output_type": "execute_result"
    }
   ],
   "source": [
    "adult_df = pandas.read_csv(\"./data/All_Data -adult.csv\", index_col=0)\n",
    "(adult_df[\"Num True Pos - Privileged\"] + adult_df[\"Num False Pos - Privileged\"])/(adult_df[\"Num True Pos - Privileged\"] + adult_df[\"Num True Neg - Privileged\"] + adult_df[\"Num False Pos - Privileged\"] + adult_df[\"Num False Neg - Privileged\"])\n",
    "#adult_df.columns"
   ]
  },
  {
   "cell_type": "code",
   "execution_count": 19,
   "metadata": {},
   "outputs": [
    {
     "data": {
      "text/plain": [
       "OP - 3             0.2034\n",
       "OP - 11            0.2015\n",
       "OP - 17            0.2126\n",
       "OP + EOP - 3       0.1287\n",
       "OP + EOP - 11      0.1343\n",
       "                    ...  \n",
       "GSR + CEOP - 11    0.1553\n",
       "GSR + CEOP - 17    0.2136\n",
       "GSR + ROC - 3      0.3849\n",
       "GSR + ROC - 11     0.0362\n",
       "GSR + ROC - 17     0.3565\n",
       "Name: Privileged base Rate, Length: 180, dtype: float64"
      ]
     },
     "execution_count": 19,
     "metadata": {},
     "output_type": "execute_result"
    }
   ],
   "source": [
    "adult_df[\"Privileged base Rate\"]"
   ]
  },
  {
   "cell_type": "code",
   "execution_count": 33,
   "metadata": {},
   "outputs": [],
   "source": [
    "df = pd.concat([adult_df, german_df, bank_df, compas_df])\n",
    "#df = pd.concat([adult_df, german_df, compas_df])\n",
    "df = df[[\"Privileged base Rate\", \"Unprivileged base Rate\", \"base Rate\"]]\n",
    "#df = df.groupby(df.index).mean()\n",
    "\n",
    "#base_rate = {0:{\"priv\": [], \"unpriv\":[]}, 1:{\"priv\": [], \"unpriv\":[]}, 2:{\"priv\": [], \"unpriv\":[]}, 3:{\"priv\": [], \"unpriv\":[]}}\n",
    "base_rate = {0:{\"priv\": [], \"unpriv\":[], \"tot\":[]}, \n",
    "             1:{\"priv\": [], \"unpriv\":[], \"tot\":[]}, \n",
    "             2:{\"priv\": [], \"unpriv\":[], \"tot\":[]}, \n",
    "             3:{\"priv\": [], \"unpriv\":[], \"tot\":[]}}\n",
    "for index, row in df.iterrows():\n",
    "    k = num_interventions(index)\n",
    "    #print(index, k, round(row[\"Privileged base Rate\"],3), round(row[\"Unprivileged base Rate\"],3))\n",
    "    base_rate[k][\"priv\"].append(row[\"Privileged base Rate\"])\n",
    "    base_rate[k][\"unpriv\"].append(row[\"Unprivileged base Rate\"])\n",
    "    base_rate[k][\"tot\"].append(round(row[\"base Rate\"], 4))\n",
    "\n",
    "#base_rate"
   ]
  },
  {
   "cell_type": "code",
   "execution_count": 34,
   "metadata": {},
   "outputs": [
    {
     "data": {
      "text/plain": [
       "([46, 44, 45, 50], [34, 38, 40, 44], [41, 42, 43, 48])"
      ]
     },
     "execution_count": 34,
     "metadata": {},
     "output_type": "execute_result"
    }
   ],
   "source": [
    "priv_base = {}\n",
    "unpriv_base = {}\n",
    "tot_base = {}\n",
    "\n",
    "for i in base_rate:\n",
    "    priv_base[i] = round(np.mean(base_rate[i][\"priv\"])*100)\n",
    "    unpriv_base[i] = round(np.mean(base_rate[i][\"unpriv\"])*100)\n",
    "    tot_base[i] = round(np.mean(base_rate[i][\"tot\"])*100)\n",
    "\n",
    "x = np.arange(4)\n",
    "priv_base = [priv_base[i] for i in x]\n",
    "unpriv_base = [unpriv_base[i] for i in x]\n",
    "tot_base = [tot_base[i] for i in x]\n",
    "x_lab = [\"Zero\", \"One\", \"Two\", \"Three\"]\n",
    "\n",
    "priv_base, unpriv_base, tot_base"
   ]
  },
  {
   "cell_type": "code",
   "execution_count": 74,
   "metadata": {},
   "outputs": [
    {
     "data": {
      "image/png": "[encoded data removed]",
      "text/plain": [
       "<Figure size 432x270 with 1 Axes>"
      ]
     },
     "metadata": {
      "needs_background": "light"
     },
     "output_type": "display_data"
    }
   ],
   "source": [
    "# code: https://www.pythoncharts.com/matplotlib/grouped-bar-charts-matplotlib/\n",
    "width = 0.35  # the width of the bars\n",
    "\n",
    "#fig, ax = plt.subplots(figsize=(7, 5))\n",
    "fig, ax = plt.subplots(figsize=(6, 3.75))\n",
    "plt.rcParams.update({'font.size': 13})\n",
    "\n",
    "c1, c2 = 'royalblue', 'sandybrown'\n",
    "rects1 = ax.bar(x - width/2, priv_base, label='Privileged', color=c1, edgecolor=c1, alpha=0.6, width=0.3, linewidth=2, hatch='.')\n",
    "rects2 = ax.bar(x + width/2, unpriv_base, label='Unprivileged', color=c2, edgecolor=c2, alpha=0.6, width=0.3, linewidth=2, hatch='x')\n",
    "\n",
    "# Add some text for labels, title and custom x-axis tick labels, etc.\n",
    "ax.set_ylabel('Mean Base Rate', size=13)\n",
    "ax.set_xlabel('Number of Interventions', size=13)\n",
    "#ax.set_title('Mean Accuracy and F1 Score by number of Interventions')\n",
    "ax.set_xticks(x, x_lab)\n",
    "#ax.set_ylim([0, 58])\n",
    "#ax.legend(bbox_to_anchor=(0.5, 1.13), loc='upper center', ncol=2)\n",
    "ax.legend(loc='lower right', ncol=1)\n",
    "#ax.legend(bbox_to_anchor=(1.05, 1), ncol=1)\n",
    "\n",
    "ax.spines['top'].set_visible(False)\n",
    "ax.spines['right'].set_visible(False)\n",
    "ax.spines['left'].set_visible(False)\n",
    "ax.spines['bottom'].set_color('#DDDDDD')\n",
    "ax.tick_params(bottom=False, left=False)\n",
    "ax.set_axisbelow(True)\n",
    "ax.yaxis.grid(True, color='#EEEEEE')\n",
    "ax.xaxis.grid(False)\n",
    "\n",
    "ax.bar_label(rects1, padding=3)\n",
    "ax.bar_label(rects2, padding=3)\n",
    "\n",
    "fig.tight_layout()\n",
    "#plt.show()\n",
    "fig.savefig('./figures/base_rate.png', dpi=600)"
   ]
  },
  {
   "cell_type": "markdown",
   "metadata": {},
   "source": [
    "<h3>Privileged group gets Discriminated</h3>"
   ]
  },
  {
   "cell_type": "code",
   "execution_count": 30,
   "metadata": {},
   "outputs": [],
   "source": [
    "adult_df = pd.read_csv(\"./data/adult.csv\", index_col=0)\n",
    "compas_df = pd.read_csv(\"./data/compas.csv\", index_col=0)\n",
    "bank_df = pd.read_csv(\"./data/bank.csv\", index_col=0)\n",
    "german_df = pd.read_csv(\"./data/german.csv\", index_col=0)"
   ]
  },
  {
   "cell_type": "code",
   "execution_count": 91,
   "metadata": {},
   "outputs": [],
   "source": [
    "def grouped_bar_chart(xlabels, y1, y2, title):\n",
    "    # code: https://www.pythoncharts.com/matplotlib/grouped-bar-charts-matplotlib/\n",
    "    width = 0.35  # the width of the bars\n",
    "    x = np.arange(len(xlabels))\n",
    "    fig, ax = plt.subplots(figsize=(18, 8))\n",
    "    plt.rcParams.update({'font.size': 15})\n",
    "    #c1, c2 = 'royalblue', 'darksalmon'\n",
    "    c1, c2 = 'royalblue', 'sandybrown'\n",
    "    rects1 = ax.bar(x - width/2, y1, label='Privileged', color=c1, edgecolor=c1, alpha=0.6, width=0.3, linewidth=2, hatch='.')\n",
    "    rects2 = ax.bar(x + width/2, y2, label='Unprivileged', color=c2, edgecolor=c2, alpha=0.6, width=0.3, linewidth=2, hatch='x')\n",
    "\n",
    "    # Add some text for labels, title and custom x-axis tick labels, etc.\n",
    "    ax.set_ylabel('difference in FNR compared to baseline', size=17)\n",
    "    #ax.set_xlabel('Number of Interventions')\n",
    "    #ax.set_title('Change in False Positive Rate across different Interventions for COMPAS dataset', size=16)\n",
    "    #ax.set_title(title, size=16)\n",
    "    ax.set_xticks(x, xlabels, rotation = 90, size=15)\n",
    "    ax.set_ylim([-29, 29])\n",
    "    ax.legend()\n",
    "\n",
    "    ax.spines['top'].set_visible(False)\n",
    "    ax.spines['right'].set_visible(False)\n",
    "    ax.spines['left'].set_visible(False)\n",
    "    ax.spines['bottom'].set_color('#DDDDDD')\n",
    "    #ax.tick_params(bottom=False, left=False)\n",
    "    ax.set_axisbelow(True)\n",
    "    ax.yaxis.grid(True, color='#EEEEEE')\n",
    "    ax.xaxis.grid(False)\n",
    "\n",
    "    ax.bar_label(rects1, padding=3)\n",
    "    ax.bar_label(rects2, padding=3)\n",
    "\n",
    "    fig.tight_layout()\n",
    "    #plt.show()\n",
    "    #fig.savefig('./figures/base_rate.png', dpi=600)\n",
    "    return fig"
   ]
  },
  {
   "cell_type": "code",
   "execution_count": 33,
   "metadata": {},
   "outputs": [
    {
     "name": "stdout",
     "output_type": "stream",
     "text": [
      "-8.813 10.64 1.827\n",
      "-8.813 10.61 1.797\n",
      "-8.813 8.7 -0.117\n",
      "-8.813 10.64 1.827\n",
      "-8.813 -4.23 -13.047\n",
      "-8.813 17.66 8.847\n",
      "-8.813 10.27 1.453\n",
      "-8.813 3.48 -5.337\n",
      "-8.813 17.04 8.23\n",
      "-8.813 15.66 6.843\n",
      "-8.813 8.36 -0.457\n",
      "-8.813 9.17 0.353\n",
      "-8.813 8.73 -0.08\n"
     ]
    },
    {
     "data": {
      "image/png": "[encoded data removed]",
      "text/plain": [
       "<Figure size 1296x576 with 1 Axes>"
      ]
     },
     "metadata": {
      "needs_background": "light"
     },
     "output_type": "display_data"
    }
   ],
   "source": [
    "# Let's go with Compas dataset - False Positive Rate\n",
    "# For compas dataset, positive means - No recidivate (label:0)\n",
    "# so false positive means - Actually committed crime but labeled as innocent\n",
    "\n",
    "#for data in [adult_df, compas_df, german_df, bank_df]:\n",
    "for data in [adult_df]:\n",
    "    #cols = [\"False Positive Rate\", \"False Negative Rate\", \"False Discovery Rate\", \"False Omission Rate\"]\n",
    "    cols = [\"False Negative Rate\"]\n",
    "    for metric in cols:\n",
    "        b1 = data[metric + \" - Privileged\"][\"Logistic Regression\"]\n",
    "        b2 = data[metric + \" - Unprivileged\"][\"Logistic Regression\"]\n",
    "        #b1 = data['Privileged base Rate'][\"Logistic Regression\"]\n",
    "        #b2 = data['Unprivileged base Rate'][\"Logistic Regression\"]\n",
    "        m_ori = b1 - b2    # original metric value FPR Diff\n",
    "        res = {\"priv\":[], \"unpriv\": []}\n",
    "        row_names = []\n",
    "        for index, row in data.iterrows():\n",
    "            v1 = row[metric + \" - Privileged\"]\n",
    "            v2 = row[metric + \" - Unprivileged\"]\n",
    "            #v1 = row['Privileged base Rate']\n",
    "            #v2 = row['Unprivileged base Rate']\n",
    "            \n",
    "            if index in [\"OP + PR + CEOP\", \"OP + PR\"]:\n",
    "                continue\n",
    "            \n",
    "            m_new = v1 - v2    # new value for FPR Diff\n",
    "            d1, d2 = v1-b1, v2-b2  # delta change in value\n",
    "            #if abs(d1)>0.05 and abs(d2)>0.05 and d1*d2<0:\n",
    "            if abs(m_new)-abs(m_ori)<0.05 and 0.03<abs(d1)<0.26 and 0.03<abs(d2)<0.32:\n",
    "            #if abs(m_new)<abs(m_ori) and d1>0.01 and d2<0.01:\n",
    "                print(round(m_ori*100,3), round((d1-d2)*100,2),round(m_new*100,3))\n",
    "                res[\"priv\"].append(round(d1,2)*100)\n",
    "                res[\"unpriv\"].append(round(d2,2)*100)\n",
    "                row_names.append(index)\n",
    "\n",
    "        fig = grouped_bar_chart(row_names, res[\"priv\"], res[\"unpriv\"], metric)\n",
    "        #fig.savefig('./figures/fpr_compas.png', dpi=600)\n",
    "        fig.savefig('./figures/fnr_adult.png', dpi=600)"
   ]
  },
  {
   "cell_type": "code",
   "execution_count": 138,
   "metadata": {},
   "outputs": [
    {
     "name": "stderr",
     "output_type": "stream",
     "text": [
      "WARNING:root:Missing Data: 5 rows removed from CompasDataset.\n"
     ]
    },
    {
     "data": {
      "text/html": [
       "<div>\n",
       "<style scoped>\n",
       "    .dataframe tbody tr th:only-of-type {\n",
       "        vertical-align: middle;\n",
       "    }\n",
       "\n",
       "    .dataframe tbody tr th {\n",
       "        vertical-align: top;\n",
       "    }\n",
       "\n",
       "    .dataframe thead th {\n",
       "        text-align: right;\n",
       "    }\n",
       "</style>\n",
       "<table border=\"1\" class=\"dataframe\">\n",
       "  <thead>\n",
       "    <tr style=\"text-align: right;\">\n",
       "      <th>two_year_recid</th>\n",
       "      <th>0.0</th>\n",
       "      <th>1.0</th>\n",
       "    </tr>\n",
       "    <tr>\n",
       "      <th>race</th>\n",
       "      <th></th>\n",
       "      <th></th>\n",
       "    </tr>\n",
       "  </thead>\n",
       "  <tbody>\n",
       "    <tr>\n",
       "      <th>0.0</th>\n",
       "      <td>2080</td>\n",
       "      <td>1987</td>\n",
       "    </tr>\n",
       "    <tr>\n",
       "      <th>1.0</th>\n",
       "      <td>1278</td>\n",
       "      <td>822</td>\n",
       "    </tr>\n",
       "  </tbody>\n",
       "</table>\n",
       "</div>"
      ],
      "text/plain": [
       "two_year_recid   0.0   1.0\n",
       "race                      \n",
       "0.0             2080  1987\n",
       "1.0             1278   822"
      ]
     },
     "execution_count": 138,
     "metadata": {},
     "output_type": "execute_result"
    }
   ],
   "source": [
    "#pd.crosstab(compas_df[])\n",
    "from aif360.datasets import CompasDataset\n",
    "c = CompasDataset().convert_to_dataframe()[0]\n",
    "pd.crosstab(c[\"race\"], c[\"two_year_recid\"])"
   ]
  },
  {
   "cell_type": "markdown",
   "metadata": {},
   "source": [
    "<h3>Error rate gets worse</h3>"
   ]
  },
  {
   "cell_type": "code",
   "execution_count": 23,
   "metadata": {},
   "outputs": [],
   "source": [
    "adult_df = pd.read_csv(\"./data/adult.csv\", index_col=0)\n",
    "compas_df = pd.read_csv(\"./data/compas.csv\", index_col=0)\n",
    "bank_df = pd.read_csv(\"./data/bank.csv\", index_col=0)\n",
    "german_df = pd.read_csv(\"./data/german.csv\", index_col=0)"
   ]
  },
  {
   "cell_type": "code",
   "execution_count": 48,
   "metadata": {},
   "outputs": [],
   "source": [
    "def make_plot(y1, y2, metric):\n",
    "    xlabels = [\"One\", \"Two\", \"Three\"]\n",
    "\n",
    "    width = 0.35  # the width of the bars\n",
    "    x = np.arange(len(xlabels))\n",
    "    fig, ax = plt.subplots(figsize=(5, 3.75))\n",
    "    plt.rcParams.update({'font.size': 13})\n",
    "    c1, c2 = 'royalblue', 'sandybrown'\n",
    "    rects1 = ax.bar(x - width/2, y1, label='Privileged', color=c1, edgecolor=c1, alpha=0.6, width=0.3, linewidth=2, hatch='.')\n",
    "    rects2 = ax.bar(x + width/2, y2, label='Unprivileged', color=c2, edgecolor=c2, alpha=0.6, width=0.3, linewidth=2, hatch='x')\n",
    "\n",
    "    # Add some text for labels, title and custom x-axis tick labels, etc.\n",
    "    ylabel = ''\n",
    "    if metric==\"F1 Score\":\n",
    "        ylabel = '% times f1 score improves'\n",
    "    elif metric==\"False Positive Rate\":\n",
    "        ylabel = '% times FPR increases'\n",
    "    elif metric==\"False Negative Rate\":\n",
    "        ylabel = '% times FNR increases'\n",
    "    ax.set_ylabel(ylabel, size=13)\n",
    "    ax.set_xlabel('Number of Interventions')\n",
    "    #ax.set_title('Change in False Positive Rate across different Interventions for COMPAS dataset', size=16)\n",
    "    #ax.set_title(title, size=16)\n",
    "    ax.set_xticks(x, xlabels, rotation = 0, size=13)\n",
    "    #ax.set_ylim([30, 70])\n",
    "    if metric==\"False Positive Rate\":\n",
    "        #ax.set_ylim([0, 30])\n",
    "        ax.legend(loc='lower right')\n",
    "        #ax.legend(loc='upper right', bbox_to_anchor=(1, 1))\n",
    "        #ax.legend(loc='lower right', bbox_to_anchor=(1, 0))\n",
    "\n",
    "    ax.spines['top'].set_visible(False)\n",
    "    ax.spines['right'].set_visible(False)\n",
    "    ax.spines['left'].set_visible(False)\n",
    "    ax.spines['bottom'].set_color('#DDDDDD')\n",
    "    #ax.tick_params(bottom=False, left=False)\n",
    "    ax.set_axisbelow(True)\n",
    "    ax.yaxis.grid(True, color='#EEEEEE')\n",
    "    ax.xaxis.grid(False)\n",
    "\n",
    "    ax.bar_label(rects1, padding=3)\n",
    "    ax.bar_label(rects2, padding=3)\n",
    "\n",
    "    fig.tight_layout()\n",
    "    fig.savefig('./figures/'+metric+'.png', dpi=600)"
   ]
  },
  {
   "cell_type": "code",
   "execution_count": 49,
   "metadata": {},
   "outputs": [
    {
     "name": "stdout",
     "output_type": "stream",
     "text": [
      "Metric:  False Positive Rate\n",
      "{'priv': [13, 43, 41], 'unpriv': [20, 65, 60]}\n",
      "[37, 44, 49] [57, 67, 71]\n",
      "Metric:  False Negative Rate\n",
      "{'priv': [20, 68, 58], 'unpriv': [16, 55, 44]}\n",
      "[57, 70, 69] [46, 57, 52]\n"
     ]
    },
    {
     "data": {
      "image/png": "[encoded data removed]",
      "text/plain": [
       "<Figure size 360x270 with 1 Axes>"
      ]
     },
     "metadata": {
      "needs_background": "light"
     },
     "output_type": "display_data"
    },
    {
     "data": {
      "image/png": "[encoded data removed]",
      "text/plain": [
       "<Figure size 360x270 with 1 Axes>"
      ]
     },
     "metadata": {
      "needs_background": "light"
     },
     "output_type": "display_data"
    }
   ],
   "source": [
    "#cols = [\"False Positive Rate\", \"False Negative Rate\", \"False Discovery Rate\", \"False Omission Rate\", \"Accuracy\"]\n",
    "cols = [\"False Positive Rate\", \"False Negative Rate\"]\n",
    "    \n",
    "for metric in cols:  \n",
    "    print(\"Metric: \", metric)\n",
    "    res = {\"priv\":[0, 0, 0], \"unpriv\": [0, 0, 0]}\n",
    "    tot_cases = [0, 0, 0]\n",
    "\n",
    "    for data in [adult_df, compas_df, german_df, bank_df]:\n",
    "    #for data in [adult_df]:\n",
    "\n",
    "        base_p = data[metric + \" - Privileged\"][\"Logistic Regression\"]\n",
    "        base_u = data[metric + \" - Unprivileged\"][\"Logistic Regression\"]\n",
    "        \n",
    "    \n",
    "        for index, row in data.iterrows():\n",
    "            if index == \"Logistic Regression\":\n",
    "                continue\n",
    "                \n",
    "            new_p = row[metric + \" - Privileged\"]\n",
    "            new_u = row[metric + \" - Unprivileged\"]\n",
    "            \n",
    "            n = num_interventions(index)\n",
    "            tot_cases[n-1] += 1\n",
    "            \n",
    "            if metric not in [\"F1 Score\", \"Accuracy\"]:     \n",
    "                    \n",
    "                if abs(new_p)>abs(base_p):\n",
    "                    res[\"priv\"][n-1] += 1\n",
    "\n",
    "                if abs(new_u)>abs(base_u):\n",
    "                    res[\"unpriv\"][n-1] += 1\n",
    "            else:\n",
    "                \n",
    "                if abs(new_p)>=abs(base_p):\n",
    "                    res[\"priv\"][n-1] += 1\n",
    "\n",
    "                if abs(new_u)>=abs(base_u):\n",
    "                    res[\"unpriv\"][n-1] += 1\n",
    "        \n",
    "    print(res)\n",
    "    priv_per = [round(res[\"priv\"][i]/tot_cases[i]*100) for i in [0,1,2]]\n",
    "    unpriv_per = [round(res[\"unpriv\"][i]/tot_cases[i]*100) for i in [0,1,2]]\n",
    "    print(priv_per, unpriv_per)\n",
    "    make_plot(priv_per, unpriv_per, metric)"
   ]
  },
  {
   "cell_type": "markdown",
   "metadata": {},
   "source": [
    "<h3>F1 score and Accuracy by group</h3>"
   ]
  },
  {
   "cell_type": "code",
   "execution_count": 47,
   "metadata": {},
   "outputs": [
    {
     "data": {
      "text/plain": [
       "(220, 30)"
      ]
     },
     "execution_count": 47,
     "metadata": {},
     "output_type": "execute_result"
    }
   ],
   "source": [
    "adult_df = pd.read_csv(\"./data/adult.csv\", index_col=0)\n",
    "compas_df = pd.read_csv(\"./data/compas.csv\", index_col=0)\n",
    "bank_df = pd.read_csv(\"./data/bank.csv\", index_col=0)\n",
    "german_df = pd.read_csv(\"./data/german.csv\", index_col=0)\n",
    "\n",
    "all_data = pd.concat([adult_df, compas_df, bank_df, german_df])\n",
    "#all_data = pd.concat([adult_df])\n",
    "all_data.shape"
   ]
  },
  {
   "cell_type": "code",
   "execution_count": 48,
   "metadata": {},
   "outputs": [
    {
     "data": {
      "text/html": [
       "<div>\n",
       "<style scoped>\n",
       "    .dataframe tbody tr th:only-of-type {\n",
       "        vertical-align: middle;\n",
       "    }\n",
       "\n",
       "    .dataframe tbody tr th {\n",
       "        vertical-align: top;\n",
       "    }\n",
       "\n",
       "    .dataframe thead th {\n",
       "        text-align: right;\n",
       "    }\n",
       "</style>\n",
       "<table border=\"1\" class=\"dataframe\">\n",
       "  <thead>\n",
       "    <tr style=\"text-align: right;\">\n",
       "      <th></th>\n",
       "      <th>Accuracy</th>\n",
       "      <th>F1 Score</th>\n",
       "      <th>Theil Index</th>\n",
       "      <th>False Positive Rate - Unprivileged</th>\n",
       "      <th>False Positive Rate - Privileged</th>\n",
       "      <th>False Negative Rate - Unprivileged</th>\n",
       "      <th>False Negative Rate - Privileged</th>\n",
       "      <th>Accuracy - Unprivileged</th>\n",
       "      <th>Accuracy - Privileged</th>\n",
       "      <th>False Discovery Rate - Unprivileged</th>\n",
       "      <th>...</th>\n",
       "      <th>Num True Pos - Unprivileged</th>\n",
       "      <th>Num True Neg - Unprivileged</th>\n",
       "      <th>Num False Pos - Unprivileged</th>\n",
       "      <th>Num False Neg - Unprivileged</th>\n",
       "      <th>F1 Score - Privileged</th>\n",
       "      <th>F1 Score - Unprivileged</th>\n",
       "      <th>Privileged base Rate</th>\n",
       "      <th>Unprivileged base Rate</th>\n",
       "      <th>Consistency</th>\n",
       "      <th>num_inter</th>\n",
       "    </tr>\n",
       "  </thead>\n",
       "  <tbody>\n",
       "    <tr>\n",
       "      <th>OP</th>\n",
       "      <td>0.790333</td>\n",
       "      <td>0.484567</td>\n",
       "      <td>0.177833</td>\n",
       "      <td>0.067033</td>\n",
       "      <td>0.104933</td>\n",
       "      <td>0.723933</td>\n",
       "      <td>0.564767</td>\n",
       "      <td>0.862167</td>\n",
       "      <td>0.754400</td>\n",
       "      <td>0.667300</td>\n",
       "      <td>...</td>\n",
       "      <td>145.666667</td>\n",
       "      <td>4067.000000</td>\n",
       "      <td>292.333333</td>\n",
       "      <td>381.333333</td>\n",
       "      <td>0.519900</td>\n",
       "      <td>0.301633</td>\n",
       "      <td>0.205833</td>\n",
       "      <td>0.089633</td>\n",
       "      <td>0.978767</td>\n",
       "      <td>1</td>\n",
       "    </tr>\n",
       "    <tr>\n",
       "      <th>OP + EOP</th>\n",
       "      <td>0.774533</td>\n",
       "      <td>0.369900</td>\n",
       "      <td>0.211633</td>\n",
       "      <td>0.070233</td>\n",
       "      <td>0.066933</td>\n",
       "      <td>0.722600</td>\n",
       "      <td>0.724200</td>\n",
       "      <td>0.859400</td>\n",
       "      <td>0.732133</td>\n",
       "      <td>0.675667</td>\n",
       "      <td>...</td>\n",
       "      <td>146.333333</td>\n",
       "      <td>4053.000000</td>\n",
       "      <td>306.333333</td>\n",
       "      <td>380.666667</td>\n",
       "      <td>0.386267</td>\n",
       "      <td>0.298667</td>\n",
       "      <td>0.130800</td>\n",
       "      <td>0.092633</td>\n",
       "      <td>0.919400</td>\n",
       "      <td>2</td>\n",
       "    </tr>\n",
       "    <tr>\n",
       "      <th>OP + CEOP</th>\n",
       "      <td>0.790333</td>\n",
       "      <td>0.484567</td>\n",
       "      <td>0.177833</td>\n",
       "      <td>0.067033</td>\n",
       "      <td>0.104933</td>\n",
       "      <td>0.723933</td>\n",
       "      <td>0.564767</td>\n",
       "      <td>0.862167</td>\n",
       "      <td>0.754400</td>\n",
       "      <td>0.667300</td>\n",
       "      <td>...</td>\n",
       "      <td>145.666667</td>\n",
       "      <td>4067.000000</td>\n",
       "      <td>292.333333</td>\n",
       "      <td>381.333333</td>\n",
       "      <td>0.519900</td>\n",
       "      <td>0.301633</td>\n",
       "      <td>0.205833</td>\n",
       "      <td>0.089633</td>\n",
       "      <td>0.978767</td>\n",
       "      <td>2</td>\n",
       "    </tr>\n",
       "    <tr>\n",
       "      <th>OP + ROC</th>\n",
       "      <td>0.684867</td>\n",
       "      <td>0.530900</td>\n",
       "      <td>0.119067</td>\n",
       "      <td>0.367667</td>\n",
       "      <td>0.311200</td>\n",
       "      <td>0.240433</td>\n",
       "      <td>0.258700</td>\n",
       "      <td>0.645900</td>\n",
       "      <td>0.704433</td>\n",
       "      <td>0.799533</td>\n",
       "      <td>...</td>\n",
       "      <td>400.000000</td>\n",
       "      <td>2755.666667</td>\n",
       "      <td>1603.666667</td>\n",
       "      <td>127.000000</td>\n",
       "      <td>0.605067</td>\n",
       "      <td>0.316667</td>\n",
       "      <td>0.442633</td>\n",
       "      <td>0.409933</td>\n",
       "      <td>0.954533</td>\n",
       "      <td>2</td>\n",
       "    </tr>\n",
       "    <tr>\n",
       "      <th>OP + GFC</th>\n",
       "      <td>0.786900</td>\n",
       "      <td>0.407333</td>\n",
       "      <td>0.201133</td>\n",
       "      <td>0.063667</td>\n",
       "      <td>0.059767</td>\n",
       "      <td>0.728900</td>\n",
       "      <td>0.688400</td>\n",
       "      <td>0.864600</td>\n",
       "      <td>0.748033</td>\n",
       "      <td>0.659300</td>\n",
       "      <td>...</td>\n",
       "      <td>143.000000</td>\n",
       "      <td>4081.666667</td>\n",
       "      <td>277.666667</td>\n",
       "      <td>384.000000</td>\n",
       "      <td>0.430500</td>\n",
       "      <td>0.301567</td>\n",
       "      <td>0.136733</td>\n",
       "      <td>0.086067</td>\n",
       "      <td>0.988200</td>\n",
       "      <td>2</td>\n",
       "    </tr>\n",
       "  </tbody>\n",
       "</table>\n",
       "<p>5 rows × 31 columns</p>\n",
       "</div>"
      ],
      "text/plain": [
       "           Accuracy  F1 Score  Theil Index  \\\n",
       "OP         0.790333  0.484567     0.177833   \n",
       "OP + EOP   0.774533  0.369900     0.211633   \n",
       "OP + CEOP  0.790333  0.484567     0.177833   \n",
       "OP + ROC   0.684867  0.530900     0.119067   \n",
       "OP + GFC   0.786900  0.407333     0.201133   \n",
       "\n",
       "           False Positive Rate - Unprivileged  \\\n",
       "OP                                   0.067033   \n",
       "OP + EOP                             0.070233   \n",
       "OP + CEOP                            0.067033   \n",
       "OP + ROC                             0.367667   \n",
       "OP + GFC                             0.063667   \n",
       "\n",
       "           False Positive Rate - Privileged  \\\n",
       "OP                                 0.104933   \n",
       "OP + EOP                           0.066933   \n",
       "OP + CEOP                          0.104933   \n",
       "OP + ROC                           0.311200   \n",
       "OP + GFC                           0.059767   \n",
       "\n",
       "           False Negative Rate - Unprivileged  \\\n",
       "OP                                   0.723933   \n",
       "OP + EOP                             0.722600   \n",
       "OP + CEOP                            0.723933   \n",
       "OP + ROC                             0.240433   \n",
       "OP + GFC                             0.728900   \n",
       "\n",
       "           False Negative Rate - Privileged  Accuracy - Unprivileged  \\\n",
       "OP                                 0.564767                 0.862167   \n",
       "OP + EOP                           0.724200                 0.859400   \n",
       "OP + CEOP                          0.564767                 0.862167   \n",
       "OP + ROC                           0.258700                 0.645900   \n",
       "OP + GFC                           0.688400                 0.864600   \n",
       "\n",
       "           Accuracy - Privileged  False Discovery Rate - Unprivileged  ...  \\\n",
       "OP                      0.754400                             0.667300  ...   \n",
       "OP + EOP                0.732133                             0.675667  ...   \n",
       "OP + CEOP               0.754400                             0.667300  ...   \n",
       "OP + ROC                0.704433                             0.799533  ...   \n",
       "OP + GFC                0.748033                             0.659300  ...   \n",
       "\n",
       "           Num True Pos - Unprivileged  Num True Neg - Unprivileged  \\\n",
       "OP                          145.666667                  4067.000000   \n",
       "OP + EOP                    146.333333                  4053.000000   \n",
       "OP + CEOP                   145.666667                  4067.000000   \n",
       "OP + ROC                    400.000000                  2755.666667   \n",
       "OP + GFC                    143.000000                  4081.666667   \n",
       "\n",
       "           Num False Pos - Unprivileged  Num False Neg - Unprivileged  \\\n",
       "OP                           292.333333                    381.333333   \n",
       "OP + EOP                     306.333333                    380.666667   \n",
       "OP + CEOP                    292.333333                    381.333333   \n",
       "OP + ROC                    1603.666667                    127.000000   \n",
       "OP + GFC                     277.666667                    384.000000   \n",
       "\n",
       "           F1 Score - Privileged  F1 Score - Unprivileged  \\\n",
       "OP                      0.519900                 0.301633   \n",
       "OP + EOP                0.386267                 0.298667   \n",
       "OP + CEOP               0.519900                 0.301633   \n",
       "OP + ROC                0.605067                 0.316667   \n",
       "OP + GFC                0.430500                 0.301567   \n",
       "\n",
       "           Privileged base Rate  Unprivileged base Rate  Consistency  \\\n",
       "OP                     0.205833                0.089633     0.978767   \n",
       "OP + EOP               0.130800                0.092633     0.919400   \n",
       "OP + CEOP              0.205833                0.089633     0.978767   \n",
       "OP + ROC               0.442633                0.409933     0.954533   \n",
       "OP + GFC               0.136733                0.086067     0.988200   \n",
       "\n",
       "           num_inter  \n",
       "OP                 1  \n",
       "OP + EOP           2  \n",
       "OP + CEOP          2  \n",
       "OP + ROC           2  \n",
       "OP + GFC           2  \n",
       "\n",
       "[5 rows x 31 columns]"
      ]
     },
     "execution_count": 48,
     "metadata": {},
     "output_type": "execute_result"
    }
   ],
   "source": [
    "all_data[\"num_inter\"] = [num_interventions(n) for n in all_data.index]\n",
    "all_data.head()"
   ]
  },
  {
   "cell_type": "code",
   "execution_count": 49,
   "metadata": {},
   "outputs": [],
   "source": [
    "f1_p = all_data.groupby(\"num_inter\").mean()[\"F1 Score - Privileged\"].tolist()\n",
    "f1_u = all_data.groupby(\"num_inter\").mean()[\"F1 Score - Unprivileged\"].tolist()"
   ]
  },
  {
   "cell_type": "code",
   "execution_count": 50,
   "metadata": {},
   "outputs": [
    {
     "data": {
      "text/plain": [
       "([69, 64, 60, 61], [63, 56, 51, 49])"
      ]
     },
     "execution_count": 50,
     "metadata": {},
     "output_type": "execute_result"
    }
   ],
   "source": [
    "f1_p = [round(x*100) for x in f1_p]\n",
    "f1_u = [round(x*100) for x in f1_u]\n",
    "f1_p, f1_u"
   ]
  },
  {
   "cell_type": "code",
   "execution_count": 51,
   "metadata": {},
   "outputs": [
    {
     "data": {
      "text/html": [
       "<div>\n",
       "<style scoped>\n",
       "    .dataframe tbody tr th:only-of-type {\n",
       "        vertical-align: middle;\n",
       "    }\n",
       "\n",
       "    .dataframe tbody tr th {\n",
       "        vertical-align: top;\n",
       "    }\n",
       "\n",
       "    .dataframe thead th {\n",
       "        text-align: right;\n",
       "    }\n",
       "</style>\n",
       "<table border=\"1\" class=\"dataframe\">\n",
       "  <thead>\n",
       "    <tr style=\"text-align: right;\">\n",
       "      <th></th>\n",
       "      <th>Accuracy</th>\n",
       "      <th>Accuracy - Unprivileged</th>\n",
       "      <th>Accuracy - Privileged</th>\n",
       "    </tr>\n",
       "  </thead>\n",
       "  <tbody>\n",
       "    <tr>\n",
       "      <th>OP</th>\n",
       "      <td>0.790333</td>\n",
       "      <td>0.862167</td>\n",
       "      <td>0.754400</td>\n",
       "    </tr>\n",
       "    <tr>\n",
       "      <th>OP + EOP</th>\n",
       "      <td>0.774533</td>\n",
       "      <td>0.859400</td>\n",
       "      <td>0.732133</td>\n",
       "    </tr>\n",
       "    <tr>\n",
       "      <th>OP + CEOP</th>\n",
       "      <td>0.790333</td>\n",
       "      <td>0.862167</td>\n",
       "      <td>0.754400</td>\n",
       "    </tr>\n",
       "    <tr>\n",
       "      <th>OP + ROC</th>\n",
       "      <td>0.684867</td>\n",
       "      <td>0.645900</td>\n",
       "      <td>0.704433</td>\n",
       "    </tr>\n",
       "    <tr>\n",
       "      <th>OP + GFC</th>\n",
       "      <td>0.786900</td>\n",
       "      <td>0.864600</td>\n",
       "      <td>0.748033</td>\n",
       "    </tr>\n",
       "    <tr>\n",
       "      <th>...</th>\n",
       "      <td>...</td>\n",
       "      <td>...</td>\n",
       "      <td>...</td>\n",
       "    </tr>\n",
       "    <tr>\n",
       "      <th>EGR + ROC</th>\n",
       "      <td>0.741133</td>\n",
       "      <td>0.591000</td>\n",
       "      <td>0.778033</td>\n",
       "    </tr>\n",
       "    <tr>\n",
       "      <th>GSR</th>\n",
       "      <td>0.742233</td>\n",
       "      <td>0.616167</td>\n",
       "      <td>0.773933</td>\n",
       "    </tr>\n",
       "    <tr>\n",
       "      <th>GSR + EOP</th>\n",
       "      <td>0.713367</td>\n",
       "      <td>0.616167</td>\n",
       "      <td>0.737767</td>\n",
       "    </tr>\n",
       "    <tr>\n",
       "      <th>GSR + CEOP</th>\n",
       "      <td>0.725567</td>\n",
       "      <td>0.616167</td>\n",
       "      <td>0.753033</td>\n",
       "    </tr>\n",
       "    <tr>\n",
       "      <th>GSR + ROC</th>\n",
       "      <td>0.615567</td>\n",
       "      <td>0.692200</td>\n",
       "      <td>0.595267</td>\n",
       "    </tr>\n",
       "  </tbody>\n",
       "</table>\n",
       "<p>220 rows × 3 columns</p>\n",
       "</div>"
      ],
      "text/plain": [
       "            Accuracy  Accuracy - Unprivileged  Accuracy - Privileged\n",
       "OP          0.790333                 0.862167               0.754400\n",
       "OP + EOP    0.774533                 0.859400               0.732133\n",
       "OP + CEOP   0.790333                 0.862167               0.754400\n",
       "OP + ROC    0.684867                 0.645900               0.704433\n",
       "OP + GFC    0.786900                 0.864600               0.748033\n",
       "...              ...                      ...                    ...\n",
       "EGR + ROC   0.741133                 0.591000               0.778033\n",
       "GSR         0.742233                 0.616167               0.773933\n",
       "GSR + EOP   0.713367                 0.616167               0.737767\n",
       "GSR + CEOP  0.725567                 0.616167               0.753033\n",
       "GSR + ROC   0.615567                 0.692200               0.595267\n",
       "\n",
       "[220 rows x 3 columns]"
      ]
     },
     "execution_count": 51,
     "metadata": {},
     "output_type": "execute_result"
    }
   ],
   "source": [
    "all_data[[\"Accuracy\", \"Accuracy - Unprivileged\", \"Accuracy - Privileged\"]]"
   ]
  },
  {
   "cell_type": "code",
   "execution_count": 55,
   "metadata": {},
   "outputs": [],
   "source": [
    "# checking if net accuracy is always in between of the two groups\n",
    "for index, row in all_data.iterrows():\n",
    "    max_acc = max(row[\"Accuracy - Unprivileged\"], row[\"Accuracy - Privileged\"])\n",
    "    min_acc = min(row[\"Accuracy - Unprivileged\"], row[\"Accuracy - Privileged\"])\n",
    "    if not (min_acc<row[\"Accuracy\"] and row[\"Accuracy\"]<max_acc):\n",
    "        print(min_acc, row[\"Accuracy\"], max_acc)"
   ]
  },
  {
   "cell_type": "code",
   "execution_count": 56,
   "metadata": {},
   "outputs": [
    {
     "data": {
      "text/plain": [
       "num_inter\n",
       "0    0.792525\n",
       "1    0.754819\n",
       "2    0.724473\n",
       "3    0.700744\n",
       "Name: Accuracy, dtype: float64"
      ]
     },
     "execution_count": 56,
     "metadata": {},
     "output_type": "execute_result"
    }
   ],
   "source": [
    "all_data.groupby(\"num_inter\").mean()[\"Accuracy\"]"
   ]
  },
  {
   "cell_type": "code",
   "execution_count": 57,
   "metadata": {},
   "outputs": [
    {
     "data": {
      "text/plain": [
       "([0.7874083332499999,\n",
       "  0.7545428571428571,\n",
       "  0.7239841924364262,\n",
       "  0.7045785714007936],\n",
       " [0.7682833333333333,\n",
       "  0.7238790476380953,\n",
       "  0.697067697580756,\n",
       "  0.6733249999920635])"
      ]
     },
     "execution_count": 57,
     "metadata": {},
     "output_type": "execute_result"
    }
   ],
   "source": [
    "acc_p = all_data.groupby(\"num_inter\").mean()[\"Accuracy - Privileged\"].tolist()\n",
    "acc_u = all_data.groupby(\"num_inter\").mean()[\"Accuracy - Unprivileged\"].tolist()\n",
    "\n",
    "acc_p, acc_u"
   ]
  },
  {
   "cell_type": "code",
   "execution_count": 58,
   "metadata": {},
   "outputs": [
    {
     "data": {
      "text/plain": [
       "([79, 75, 72, 70], [77, 72, 70, 67])"
      ]
     },
     "execution_count": 58,
     "metadata": {},
     "output_type": "execute_result"
    }
   ],
   "source": [
    "acc_p = all_data.groupby(\"num_inter\").mean()[\"Accuracy - Privileged\"].tolist()\n",
    "acc_u = all_data.groupby(\"num_inter\").mean()[\"Accuracy - Unprivileged\"].tolist()\n",
    "\n",
    "acc_p = [round(x*100) for x in acc_p]\n",
    "acc_u = [round(x*100) for x in acc_u]\n",
    "acc_p, acc_u"
   ]
  },
  {
   "cell_type": "code",
   "execution_count": 53,
   "metadata": {},
   "outputs": [
    {
     "data": {
      "image/png": "[encoded data removed]",
      "text/plain": [
       "<Figure size 504x360 with 1 Axes>"
      ]
     },
     "metadata": {
      "needs_background": "light"
     },
     "output_type": "display_data"
    }
   ],
   "source": [
    "xlabels = [\"Zero\", \"One\", \"Two\", \"Three\"]\n",
    "width = 0.35  # the width of the bars\n",
    "x = np.arange(len(xlabels))\n",
    "fig, ax = plt.subplots(figsize=(7, 5))\n",
    "plt.rcParams.update({'font.size': 15})\n",
    "#c1, c2 = 'royalblue', 'darksalmon'\n",
    "c1, c2 = 'royalblue', 'sandybrown'\n",
    "rects1 = ax.bar(x - width/2, f1_p, label='Privileged', color=c1, edgecolor=c1, alpha=0.6, width=0.3, linewidth=2, hatch='.')\n",
    "rects2 = ax.bar(x + width/2, f1_u, label='Unprivileged', color=c2, edgecolor=c2, alpha=0.6, width=0.3, linewidth=2, hatch='x')\n",
    "\n",
    "# Add some text for labels, title and custom x-axis tick labels, etc.\n",
    "ax.set_ylabel('Mean F1 score', size=15)\n",
    "ax.set_xlabel('Number of Interventions')\n",
    "    #ax.set_title('Change in False Positive Rate across different Interventions for COMPAS dataset', size=16)\n",
    "    #ax.set_title(title, size=16)\n",
    "ax.set_xticks(x, xlabels, rotation = 0, size=15)\n",
    "ax.set_ylim([0, 78])\n",
    "ax.legend(bbox_to_anchor=(0.5, 1.13), loc='upper center', ncol=2)\n",
    "\n",
    "ax.spines['top'].set_visible(False)\n",
    "ax.spines['right'].set_visible(False)\n",
    "ax.spines['left'].set_visible(False)\n",
    "ax.spines['bottom'].set_color('#DDDDDD')\n",
    "#ax.tick_params(bottom=False, left=False)\n",
    "ax.set_axisbelow(True)\n",
    "ax.yaxis.grid(True, color='#EEEEEE')\n",
    "ax.xaxis.grid(False)\n",
    "\n",
    "ax.bar_label(rects1, padding=3)\n",
    "ax.bar_label(rects2, padding=3)\n",
    "\n",
    "fig.tight_layout()\n",
    "#plt.show()\n",
    "fig.savefig('./figures/f1_score.png', dpi=600)"
   ]
  },
  {
   "cell_type": "code",
   "execution_count": 54,
   "metadata": {},
   "outputs": [
    {
     "data": {
      "image/png": "[encoded data removed]",
      "text/plain": [
       "<Figure size 504x360 with 1 Axes>"
      ]
     },
     "metadata": {
      "needs_background": "light"
     },
     "output_type": "display_data"
    }
   ],
   "source": [
    "xlabels = [\"Zero\", \"One\", \"Two\", \"Three\"]\n",
    "width = 0.35  # the width of the bars\n",
    "x = np.arange(len(xlabels))\n",
    "fig, ax = plt.subplots(figsize=(7, 5))\n",
    "plt.rcParams.update({'font.size': 15})\n",
    "#c1, c2 = 'royalblue', 'darksalmon'\n",
    "c1, c2 = 'royalblue', 'sandybrown'\n",
    "rects1 = ax.bar(x - width/2, acc_p, label='Privileged', color=c1, edgecolor=c1, alpha=0.6, width=0.3, linewidth=2, hatch='.')\n",
    "rects2 = ax.bar(x + width/2, acc_u, label='Unprivileged', color=c2, edgecolor=c2, alpha=0.6, width=0.3, linewidth=2, hatch='x')\n",
    "\n",
    "# Add some text for labels, title and custom x-axis tick labels, etc.\n",
    "ax.set_ylabel('Mean Accuracy score', size=15)\n",
    "ax.set_xlabel('Number of Interventions')\n",
    "    #ax.set_title('Change in False Positive Rate across different Interventions for COMPAS dataset', size=16)\n",
    "    #ax.set_title(title, size=16)\n",
    "ax.set_xticks(x, xlabels, rotation = 0, size=15)\n",
    "ax.set_ylim([0, 89])\n",
    "ax.legend(bbox_to_anchor=(0.5, 1.13), loc='upper center', ncol=2)\n",
    "\n",
    "ax.spines['top'].set_visible(False)\n",
    "ax.spines['right'].set_visible(False)\n",
    "ax.spines['left'].set_visible(False)\n",
    "ax.spines['bottom'].set_color('#DDDDDD')\n",
    "#ax.tick_params(bottom=False, left=False)\n",
    "ax.set_axisbelow(True)\n",
    "ax.yaxis.grid(True, color='#EEEEEE')\n",
    "ax.xaxis.grid(False)\n",
    "\n",
    "ax.bar_label(rects1, padding=3)\n",
    "ax.bar_label(rects2, padding=3)\n",
    "\n",
    "fig.tight_layout()\n",
    "#plt.show()\n",
    "fig.savefig('./figures/accuracy_score.png', dpi=600)"
   ]
  }
 ],
 "metadata": {
  "kernelspec": {
   "display_name": "Python 3 (ipykernel)",
   "language": "python",
   "name": "python3"
  },
  "language_info": {
   "codemirror_mode": {
    "name": "ipython",
    "version": 3
   },
   "file_extension": ".py",
   "mimetype": "text/x-python",
   "name": "python",
   "nbconvert_exporter": "python",
   "pygments_lexer": "ipython3",
   "version": "3.8.12"
  }
 },
 "nbformat": 4,
 "nbformat_minor": 4
}
