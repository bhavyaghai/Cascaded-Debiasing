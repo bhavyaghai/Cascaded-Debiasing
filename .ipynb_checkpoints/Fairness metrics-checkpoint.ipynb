{
 "cells": [
  {
   "cell_type": "code",
   "execution_count": 1,
   "metadata": {},
   "outputs": [],
   "source": [
    "from matplotlib import pyplot as plt\n",
    "import matplotlib\n",
    "import numpy as np\n",
    "import pandas as pd\n",
    "import pandas\n",
    "from scipy.stats import ttest_ind\n",
    "from IPython.display import display"
   ]
  },
  {
   "cell_type": "code",
   "execution_count": 2,
   "metadata": {},
   "outputs": [],
   "source": [
    "'''\n",
    "adult_df = pandas.read_csv(\"./data/adult.csv\", index_col=0)\n",
    "compas_df = pandas.read_csv(\"./data/compas.csv\", index_col=0)\n",
    "bank_df = pandas.read_csv(\"./data/bank.csv\", index_col=0)\n",
    "german_df = pandas.read_csv(\"./data/german.csv\", index_col=0)\n",
    "\n",
    "'''\n",
    "\n",
    "adult_df = pandas.read_csv(\"./data/All_Data -adult.csv\", index_col=0)\n",
    "compas_df = pandas.read_csv(\"./data/All_Data -compas.csv\", index_col=0)\n",
    "bank_df = pandas.read_csv(\"./data/All_Data -bank.csv\", index_col=0)\n",
    "german_df = pandas.read_csv(\"./data/All_Data -german.csv\", index_col=0)\n",
    "\n",
    "\n",
    "for df in [adult_df, compas_df, bank_df, german_df]:\n",
    "    df[\"False Positive Rate Diff\"] = df[\"False Positive Rate - Unprivileged\"] - df[\"False Positive Rate - Privileged\"]\n",
    "    df[\"False Negative Rate Diff\"] = df[\"False Negative Rate - Unprivileged\"] - df[\"False Negative Rate - Privileged\"]\n",
    "    df[\"False Omission Rate Diff\"] = df[\"False Omission Rate - Unprivileged\"] - df[\"False Omission Rate - Privileged\"]\n",
    "    df[\"False Discovery Rate Diff\"] = df[\"False Discovery Rate - Unprivileged\"] - df[\"False Discovery Rate - Privileged\"]\n",
    "    df[\"Statistical Parity Diff\"] = df[\"Privileged base Rate\"] - df[\"Unprivileged base Rate\"] \n",
    "    df[\"Accuracy Diff\"] = df[\"Accuracy - Privileged\"] - df[\"Accuracy - Unprivileged\"] \n",
    "    df[\"F1 Score Diff\"] = df[\"F1 Score - Privileged\"] - df[\"F1 Score - Unprivileged\"] \n",
    "    df[\"base Rate\"] = (df[\"Num True Pos\"] + df[\"Num False Pos\"])/(df[\"Num True Pos\"] + df[\"Num True Neg\"] + df[\"Num False Pos\"] + df[\"Num False Neg\"])\n",
    "    for metric in df.columns:\n",
    "        if \"Num\" in metric:\n",
    "            df.drop(metric, axis=1, inplace=True)"
   ]
  },
  {
   "cell_type": "code",
   "execution_count": 3,
   "metadata": {
    "scrolled": true
   },
   "outputs": [
    {
     "name": "stdout",
     "output_type": "stream",
     "text": [
      "['Logistic Regression - 3', 'Logistic Regression - 11', 'Logistic Regression - 17']\n",
      "['OP - 3', 'OP - 11', 'OP - 17', 'DIR - 3', 'DIR - 11', 'DIR - 17', 'EOP - 3', 'EOP - 11', 'EOP - 17', 'CEOP - 3', 'CEOP - 11', 'CEOP - 17', 'ROC - 3', 'ROC - 11', 'ROC - 17', 'GFC - 3', 'GFC - 11', 'GFC - 17', 'PR - 3', 'PR - 11', 'PR - 17', 'EGR - 3', 'EGR - 11', 'EGR - 17', 'GSR - 3', 'GSR - 11', 'GSR - 17']\n",
      "['OP + EOP - 3', 'OP + EOP - 11', 'OP + EOP - 17', 'OP + CEOP - 3', 'OP + CEOP - 11', 'OP + CEOP - 17', 'OP + ROC - 3', 'OP + ROC - 11', 'OP + ROC - 17', 'OP + GFC - 3', 'OP + GFC - 11', 'OP + GFC - 17', 'OP + PR - 3', 'OP + PR - 11', 'OP + PR - 17', 'OP + EGR - 3', 'OP + EGR - 11', 'OP + EGR - 17', 'OP + GSR - 3', 'OP + GSR - 11', 'OP + GSR - 17', 'DIR + EOP - 3', 'DIR + EOP - 11', 'DIR + EOP - 17', 'DIR + CEOP - 3', 'DIR + CEOP - 11', 'DIR + CEOP - 17', 'DIR + ROC - 3', 'DIR + ROC - 11', 'DIR + ROC - 17', 'DIR + GFC - 3', 'DIR + GFC - 11', 'DIR + GFC - 17', 'DIR + PR - 3', 'DIR + PR - 11', 'DIR + PR - 17', 'DIR + EGR - 3', 'DIR + EGR - 11', 'DIR + EGR - 17', 'DIR + GSR - 3', 'DIR + GSR - 11', 'DIR + GSR - 17', 'GFC + EOP - 3', 'GFC + EOP - 11', 'GFC + EOP - 17', 'GFC + CEOP - 3', 'GFC + CEOP - 11', 'GFC + CEOP - 17', 'GFC + ROC - 3', 'GFC + ROC - 11', 'GFC + ROC - 17', 'PR + EOP - 3', 'PR + EOP - 11', 'PR + EOP - 17', 'PR + CEOP - 3', 'PR + CEOP - 11', 'PR + CEOP - 17', 'PR + ROC - 3', 'PR + ROC - 11', 'PR + ROC - 17', 'EGR + EOP - 3', 'EGR + EOP - 11', 'EGR + EOP - 17', 'EGR + CEOP - 3', 'EGR + CEOP - 11', 'EGR + CEOP - 17', 'EGR + ROC - 3', 'EGR + ROC - 11', 'EGR + ROC - 17', 'GSR + EOP - 3', 'GSR + EOP - 11', 'GSR + EOP - 17', 'GSR + CEOP - 3', 'GSR + CEOP - 11', 'GSR + CEOP - 17', 'GSR + ROC - 3', 'GSR + ROC - 11', 'GSR + ROC - 17']\n",
      "['OP + GFC + EOP - 3', 'OP + GFC + EOP - 11', 'OP + GFC + EOP - 17', 'OP + GFC + CEOP - 3', 'OP + GFC + CEOP - 11', 'OP + GFC + CEOP - 17', 'OP + GFC + ROC - 3', 'OP + GFC + ROC - 11', 'OP + GFC + ROC - 17', 'OP + PR + EOP - 3', 'OP + PR + EOP - 11', 'OP + PR + EOP - 17', 'OP + PR + CEOP - 3', 'OP + PR + CEOP - 11', 'OP + PR + CEOP - 17', 'OP + PR + ROC - 3', 'OP + PR + ROC - 11', 'OP + PR + ROC - 17', 'OP + EGR + EOP - 3', 'OP + EGR + EOP - 11', 'OP + EGR + EOP - 17', 'OP + EGR + CEOP - 3', 'OP + EGR + CEOP - 11', 'OP + EGR + CEOP - 17', 'OP + EGR + ROC - 3', 'OP + EGR + ROC - 11', 'OP + EGR + ROC - 17', 'OP + GSR + EOP - 3', 'OP + GSR + EOP - 11', 'OP + GSR + EOP - 17', 'OP + GSR + CEOP - 3', 'OP + GSR + CEOP - 11', 'OP + GSR + CEOP - 17', 'OP + GSR + ROC - 3', 'OP + GSR + ROC - 11', 'OP + GSR + ROC - 17', 'DIR + GFC + EOP - 3', 'DIR + GFC + EOP - 11', 'DIR + GFC + EOP - 17', 'DIR + GFC + CEOP - 3', 'DIR + GFC + CEOP - 11', 'DIR + GFC + CEOP - 17', 'DIR + GFC + ROC - 3', 'DIR + GFC + ROC - 11', 'DIR + GFC + ROC - 17', 'DIR + PR + EOP - 3', 'DIR + PR + EOP - 11', 'DIR + PR + EOP - 17', 'DIR + PR + CEOP - 3', 'DIR + PR + CEOP - 11', 'DIR + PR + CEOP - 17', 'DIR + PR + ROC - 3', 'DIR + PR + ROC - 11', 'DIR + PR + ROC - 17', 'DIR + EGR + EOP - 3', 'DIR + EGR + EOP - 11', 'DIR + EGR + EOP - 17', 'DIR + EGR + CEOP - 3', 'DIR + EGR + CEOP - 11', 'DIR + EGR + CEOP - 17', 'DIR + EGR + ROC - 3', 'DIR + EGR + ROC - 11', 'DIR + EGR + ROC - 17', 'DIR + GSR + EOP - 3', 'DIR + GSR + EOP - 11', 'DIR + GSR + EOP - 17', 'DIR + GSR + CEOP - 3', 'DIR + GSR + CEOP - 11', 'DIR + GSR + CEOP - 17', 'DIR + GSR + ROC - 3', 'DIR + GSR + ROC - 11', 'DIR + GSR + ROC - 17']\n"
     ]
    }
   ],
   "source": [
    "def num_interventions(name):\n",
    "    if \"Logistic Regression\" in name:\n",
    "        return 0\n",
    "    if name.count('+') == 0:\n",
    "        return 1\n",
    "    if name.count('+') == 1:\n",
    "        return 2\n",
    "    if name.count('+') == 2:\n",
    "        return 3\n",
    "    \n",
    "no_int = []\n",
    "one_int = []\n",
    "two_int = []\n",
    "three_int = []\n",
    "for row in list(adult_df.index):\n",
    "    if num_interventions(row) == 0:\n",
    "        no_int.append(row)\n",
    "    elif num_interventions(row) == 1:\n",
    "        one_int.append(row)\n",
    "    elif num_interventions(row) == 2:\n",
    "        two_int.append(row)\n",
    "    elif num_interventions(row) == 3:\n",
    "        three_int.append(row)\n",
    "        \n",
    "print(no_int)\n",
    "print(one_int)\n",
    "print(two_int)\n",
    "print(three_int)"
   ]
  },
  {
   "cell_type": "code",
   "execution_count": 4,
   "metadata": {},
   "outputs": [
    {
     "data": {
      "text/plain": [
       "['False Positive Rate Diff',\n",
       " 'False Negative Rate Diff',\n",
       " 'False Omission Rate Diff',\n",
       " 'False Discovery Rate Diff',\n",
       " 'Statistical Parity Diff',\n",
       " 'Accuracy Diff',\n",
       " 'F1 Score Diff']"
      ]
     },
     "execution_count": 4,
     "metadata": {},
     "output_type": "execute_result"
    }
   ],
   "source": [
    "col_names = []\n",
    "for c in adult_df.columns:\n",
    "    if \"Diff\" in c:\n",
    "        col_names.append(c)\n",
    "\n",
    "col_names #= ['False Positive Rate Diff']"
   ]
  },
  {
   "cell_type": "code",
   "execution_count": 5,
   "metadata": {},
   "outputs": [
    {
     "data": {
      "text/html": [
       "<div>\n",
       "<style scoped>\n",
       "    .dataframe tbody tr th:only-of-type {\n",
       "        vertical-align: middle;\n",
       "    }\n",
       "\n",
       "    .dataframe tbody tr th {\n",
       "        vertical-align: top;\n",
       "    }\n",
       "\n",
       "    .dataframe thead th {\n",
       "        text-align: right;\n",
       "    }\n",
       "</style>\n",
       "<table border=\"1\" class=\"dataframe\">\n",
       "  <thead>\n",
       "    <tr style=\"text-align: right;\">\n",
       "      <th></th>\n",
       "      <th>False Positive Rate Diff</th>\n",
       "      <th>False Negative Rate Diff</th>\n",
       "      <th>False Omission Rate Diff</th>\n",
       "      <th>False Discovery Rate Diff</th>\n",
       "      <th>Statistical Parity Diff</th>\n",
       "      <th>Accuracy Diff</th>\n",
       "      <th>F1 Score Diff</th>\n",
       "    </tr>\n",
       "  </thead>\n",
       "  <tbody>\n",
       "    <tr>\n",
       "      <th>OP - 3</th>\n",
       "      <td>-0.0387</td>\n",
       "      <td>0.1468</td>\n",
       "      <td>-0.1392</td>\n",
       "      <td>0.3015</td>\n",
       "      <td>0.1167</td>\n",
       "      <td>-0.1145</td>\n",
       "      <td>0.2041</td>\n",
       "    </tr>\n",
       "    <tr>\n",
       "      <th>OP - 11</th>\n",
       "      <td>-0.0351</td>\n",
       "      <td>0.1628</td>\n",
       "      <td>-0.1363</td>\n",
       "      <td>0.3375</td>\n",
       "      <td>0.1134</td>\n",
       "      <td>-0.1101</td>\n",
       "      <td>0.2294</td>\n",
       "    </tr>\n",
       "    <tr>\n",
       "      <th>OP - 17</th>\n",
       "      <td>-0.0399</td>\n",
       "      <td>0.1679</td>\n",
       "      <td>-0.1196</td>\n",
       "      <td>0.3013</td>\n",
       "      <td>0.1185</td>\n",
       "      <td>-0.0987</td>\n",
       "      <td>0.2213</td>\n",
       "    </tr>\n",
       "    <tr>\n",
       "      <th>OP + EOP - 3</th>\n",
       "      <td>-0.0006</td>\n",
       "      <td>-0.0077</td>\n",
       "      <td>-0.1755</td>\n",
       "      <td>0.3059</td>\n",
       "      <td>0.0420</td>\n",
       "      <td>-0.1369</td>\n",
       "      <td>0.0719</td>\n",
       "    </tr>\n",
       "    <tr>\n",
       "      <th>OP + EOP - 11</th>\n",
       "      <td>0.0063</td>\n",
       "      <td>0.0145</td>\n",
       "      <td>-0.1698</td>\n",
       "      <td>0.3526</td>\n",
       "      <td>0.0386</td>\n",
       "      <td>-0.1240</td>\n",
       "      <td>0.1143</td>\n",
       "    </tr>\n",
       "    <tr>\n",
       "      <th>...</th>\n",
       "      <td>...</td>\n",
       "      <td>...</td>\n",
       "      <td>...</td>\n",
       "      <td>...</td>\n",
       "      <td>...</td>\n",
       "      <td>...</td>\n",
       "      <td>...</td>\n",
       "    </tr>\n",
       "    <tr>\n",
       "      <th>GSR + CEOP - 11</th>\n",
       "      <td>0.1343</td>\n",
       "      <td>-0.4699</td>\n",
       "      <td>-0.2010</td>\n",
       "      <td>0.4328</td>\n",
       "      <td>-0.0986</td>\n",
       "      <td>-0.0453</td>\n",
       "      <td>-0.0002</td>\n",
       "    </tr>\n",
       "    <tr>\n",
       "      <th>GSR + CEOP - 17</th>\n",
       "      <td>-0.0728</td>\n",
       "      <td>0.5255</td>\n",
       "      <td>-0.0701</td>\n",
       "      <td>-0.2349</td>\n",
       "      <td>0.2136</td>\n",
       "      <td>-0.0802</td>\n",
       "      <td>0.6231</td>\n",
       "    </tr>\n",
       "    <tr>\n",
       "      <th>GSR + ROC - 3</th>\n",
       "      <td>0.0630</td>\n",
       "      <td>-0.1368</td>\n",
       "      <td>-0.0979</td>\n",
       "      <td>0.3297</td>\n",
       "      <td>0.0420</td>\n",
       "      <td>0.0378</td>\n",
       "      <td>0.2456</td>\n",
       "    </tr>\n",
       "    <tr>\n",
       "      <th>GSR + ROC - 11</th>\n",
       "      <td>0.0229</td>\n",
       "      <td>-0.4365</td>\n",
       "      <td>-0.2328</td>\n",
       "      <td>0.2328</td>\n",
       "      <td>-0.0482</td>\n",
       "      <td>-0.2068</td>\n",
       "      <td>-0.4321</td>\n",
       "    </tr>\n",
       "    <tr>\n",
       "      <th>GSR + ROC - 17</th>\n",
       "      <td>0.0408</td>\n",
       "      <td>-0.1781</td>\n",
       "      <td>-0.1118</td>\n",
       "      <td>0.2925</td>\n",
       "      <td>0.0508</td>\n",
       "      <td>0.0002</td>\n",
       "      <td>0.1796</td>\n",
       "    </tr>\n",
       "  </tbody>\n",
       "</table>\n",
       "<p>180 rows × 7 columns</p>\n",
       "</div>"
      ],
      "text/plain": [
       "                 False Positive Rate Diff  False Negative Rate Diff  \\\n",
       "OP - 3                            -0.0387                    0.1468   \n",
       "OP - 11                           -0.0351                    0.1628   \n",
       "OP - 17                           -0.0399                    0.1679   \n",
       "OP + EOP - 3                      -0.0006                   -0.0077   \n",
       "OP + EOP - 11                      0.0063                    0.0145   \n",
       "...                                   ...                       ...   \n",
       "GSR + CEOP - 11                    0.1343                   -0.4699   \n",
       "GSR + CEOP - 17                   -0.0728                    0.5255   \n",
       "GSR + ROC - 3                      0.0630                   -0.1368   \n",
       "GSR + ROC - 11                     0.0229                   -0.4365   \n",
       "GSR + ROC - 17                     0.0408                   -0.1781   \n",
       "\n",
       "                 False Omission Rate Diff  False Discovery Rate Diff  \\\n",
       "OP - 3                            -0.1392                     0.3015   \n",
       "OP - 11                           -0.1363                     0.3375   \n",
       "OP - 17                           -0.1196                     0.3013   \n",
       "OP + EOP - 3                      -0.1755                     0.3059   \n",
       "OP + EOP - 11                     -0.1698                     0.3526   \n",
       "...                                   ...                        ...   \n",
       "GSR + CEOP - 11                   -0.2010                     0.4328   \n",
       "GSR + CEOP - 17                   -0.0701                    -0.2349   \n",
       "GSR + ROC - 3                     -0.0979                     0.3297   \n",
       "GSR + ROC - 11                    -0.2328                     0.2328   \n",
       "GSR + ROC - 17                    -0.1118                     0.2925   \n",
       "\n",
       "                 Statistical Parity Diff  Accuracy Diff  F1 Score Diff  \n",
       "OP - 3                            0.1167        -0.1145         0.2041  \n",
       "OP - 11                           0.1134        -0.1101         0.2294  \n",
       "OP - 17                           0.1185        -0.0987         0.2213  \n",
       "OP + EOP - 3                      0.0420        -0.1369         0.0719  \n",
       "OP + EOP - 11                     0.0386        -0.1240         0.1143  \n",
       "...                                  ...            ...            ...  \n",
       "GSR + CEOP - 11                  -0.0986        -0.0453        -0.0002  \n",
       "GSR + CEOP - 17                   0.2136        -0.0802         0.6231  \n",
       "GSR + ROC - 3                     0.0420         0.0378         0.2456  \n",
       "GSR + ROC - 11                   -0.0482        -0.2068        -0.4321  \n",
       "GSR + ROC - 17                    0.0508         0.0002         0.1796  \n",
       "\n",
       "[180 rows x 7 columns]"
      ]
     },
     "execution_count": 5,
     "metadata": {},
     "output_type": "execute_result"
    }
   ],
   "source": [
    "adult_df[col_names]"
   ]
  },
  {
   "cell_type": "code",
   "execution_count": 6,
   "metadata": {},
   "outputs": [
    {
     "name": "stdout",
     "output_type": "stream",
     "text": [
      "0 12 0.023809523809523808 0.05323971374999499\n",
      "1 105 0.09251700680272107 0.12621568591356863\n",
      "2 291 0.10260186548846342 0.14907750342058756\n",
      "3 252 0.12414965986394555 0.16852188331544637\n"
     ]
    }
   ],
   "source": [
    "priv = {0:[], 1:[], 2:[], 3:[]}\n",
    "for dataset in [adult_df, german_df, compas_df, bank_df]:\n",
    "    d_sub = dataset[col_names]\n",
    "    d_sub = np.sum(abs(d_sub)<=0.01, axis=1)/len(col_names)\n",
    "    for inter, val in d_sub.items():\n",
    "        k = num_interventions(inter)\n",
    "        priv[k].append(val)\n",
    "\n",
    "y_mean = []\n",
    "for k in priv:\n",
    "    print(k, len(priv[k]), np.mean(priv[k]), np.std(priv[k]))\n",
    "    y_mean.append(round(np.mean(priv[k])*100))"
   ]
  },
  {
   "cell_type": "code",
   "execution_count": 8,
   "metadata": {},
   "outputs": [
    {
     "data": {
      "image/png": "[encoded data removed]",
      "text/plain": [
       "<Figure size 504x360 with 1 Axes>"
      ]
     },
     "metadata": {
      "needs_background": "light"
     },
     "output_type": "display_data"
    }
   ],
   "source": [
    "# percent of times privileged group performed worse than unprivileged group\n",
    "x = [\"Zero\", \"One\", \"Two\", \"Three\"]\n",
    "fig, ax = plt.subplots(figsize=(7, 5))\n",
    "c = 'sandybrown'\n",
    "rects1 = ax.bar(x, y_mean, color=c, edgecolor=c, alpha=0.55, width=0.6, linewidth=2)\n",
    "\n",
    "plt.rcParams.update({'font.size': 17})\n",
    "ax.spines['top'].set_visible(False)\n",
    "ax.spines['right'].set_visible(False)\n",
    "ax.spines['left'].set_visible(False)\n",
    "ax.spines['bottom'].set_color('#DDDDDD')\n",
    "ax.tick_params(bottom=False, left=False)\n",
    "ax.set_axisbelow(True)\n",
    "ax.yaxis.grid(True, color='#EEEEEE')\n",
    "ax.xaxis.grid(False)\n",
    "ax.bar_label(rects1, padding=3)\n",
    "ax.set_ylim([0, 14])\n",
    "\n",
    "ax.set_ylabel('% times disparity <1%', size=15)\n",
    "#ax.set_ylabel('Group Fairness')\n",
    "ax.set_xlabel('Number of Interventions', size=15)\n",
    "\n",
    "fig.tight_layout()\n",
    "#plt.show()\n",
    "fig.savefig('./figures/group_fair_inter.png', dpi=600)"
   ]
  },
  {
   "cell_type": "markdown",
   "metadata": {},
   "source": [
    "<h3>Individual Bias</h3>"
   ]
  },
  {
   "cell_type": "code",
   "execution_count": 9,
   "metadata": {},
   "outputs": [
    {
     "data": {
      "text/plain": [
       "([14, 16, 19, 19],\n",
       " [89, 90, 91, 91],\n",
       " [1.22, 1.03, 0.9, 1.03],\n",
       " [1.67, 0.7, 0.46, 0.61])"
      ]
     },
     "execution_count": 9,
     "metadata": {},
     "output_type": "execute_result"
    }
   ],
   "source": [
    "ind_bias = {0:{\"theil\":[], \"consis\":[]}, 1:{\"theil\":[], \"consis\":[]}, 2:{\"theil\":[], \"consis\":[]}, 3:{\"theil\":[], \"consis\":[]}}\n",
    "for dataset in [adult_df, german_df, compas_df, bank_df]:\n",
    "    d = dataset[[\"Theil Index\", \"Consistency\"]]\n",
    "    for index, row in d.iterrows():\n",
    "        k = num_interventions(index)\n",
    "        #print(index, k, row[\"Theil Index\"], row[\"Consistency\"])\n",
    "        ind_bias[k][\"theil\"].append(row[\"Theil Index\"])\n",
    "        ind_bias[k][\"consis\"].append(row[\"Consistency\"])\n",
    "\n",
    "theil_mean = [round(np.mean(ind_bias[k][\"theil\"])*100) for k in [0,1,2,3]]\n",
    "consis_mean = [round(np.mean(ind_bias[k][\"consis\"])*100) for k in [0,1,2,3]]\n",
    "\n",
    "theil_std = [round(np.std(ind_bias[k][\"theil\"])/(len(ind_bias[k][\"theil\"])**0.5)*100, 2) for k in [0,1,2,3]]\n",
    "consis_std = [round(np.std(ind_bias[k][\"consis\"])/(len(ind_bias[k][\"theil\"])**0.5)*100, 2) for k in [0,1,2,3]]\n",
    "\n",
    "theil_mean, consis_mean, theil_std, consis_std  "
   ]
  },
  {
   "cell_type": "code",
   "execution_count": 12,
   "metadata": {},
   "outputs": [
    {
     "data": {
      "image/png": "[encoded data removed]",
      "text/plain": [
       "<Figure size 648x360 with 1 Axes>"
      ]
     },
     "metadata": {
      "needs_background": "light"
     },
     "output_type": "display_data"
    }
   ],
   "source": [
    "# percent of times privileged group performed worse than unprivileged group\n",
    "x = np.arange(4)\n",
    "x_lab = [\"Zero\", \"One\", \"Two\", \"Three\"]\n",
    "fig, ax = plt.subplots(figsize=(9, 5))\n",
    "\n",
    "width = 0.4 \n",
    "c1, c2 = 'royalblue', 'darksalmon'\n",
    "rects1 = ax.bar(x - width/2, theil_mean, label='Theil Index', yerr=theil_std, color=c1, edgecolor=c1, linewidth=2, alpha=0.65, width=0.33, hatch='.')\n",
    "rects2 = ax.bar(x + width/2, consis_mean, label='Consistency', yerr=consis_std, color=c2, edgecolor=c2, linewidth=2, alpha=0.4, width=0.33, hatch='x')\n",
    "\n",
    "plt.rcParams.update({'font.size': 17})\n",
    "ax.spines['top'].set_visible(False)\n",
    "ax.spines['right'].set_visible(False)\n",
    "ax.spines['left'].set_visible(False)\n",
    "ax.spines['bottom'].set_color('#DDDDDD')\n",
    "ax.tick_params(bottom=False, left=False)\n",
    "ax.set_axisbelow(True)\n",
    "ax.yaxis.grid(True, color='#EEEEEE')\n",
    "ax.xaxis.grid(False)\n",
    "ax.bar_label(rects1, padding=3)\n",
    "ax.bar_label(rects2, padding=3)\n",
    "ax.set_ylim([0, 109])\n",
    "ax.set_xticks(x, x_lab)\n",
    "#ax.set_ylabel('% of times group fairness metric <0.01')\n",
    "ax.set_ylabel('Theil, Consistency (10^-2)', size=15)\n",
    "ax.set_xlabel('Number of Interventions', size=15)\n",
    "ax.legend(bbox_to_anchor=(0.5, 1.13), loc='upper center', ncol=2)\n",
    "fig.tight_layout()\n",
    "#plt.show()\n",
    "fig.savefig('./figures/ind_fair.png', dpi=600)"
   ]
  },
  {
   "cell_type": "markdown",
   "metadata": {},
   "source": [
    "<h3>% Dominanace</h3>"
   ]
  },
  {
   "cell_type": "code",
   "execution_count": 51,
   "metadata": {},
   "outputs": [
    {
     "data": {
      "text/plain": [
       "([56, 53, 52, 53], [42, 38, 38, 35])"
      ]
     },
     "execution_count": 51,
     "metadata": {},
     "output_type": "execute_result"
    }
   ],
   "source": [
    "# percentage of times one group is dominant over the other\n",
    "priv_dom = {0:[], 1:[], 2:[], 3:[]}\n",
    "unpriv_dom = {0:[], 1:[], 2:[], 3:[]}\n",
    "thresh = 0.01\n",
    "for dataset in [adult_df, german_df, compas_df, bank_df]:\n",
    "#for dataset in [adult_df, compas_df]:\n",
    "    d_sub = dataset[col_names]\n",
    "    #d_sub = dataset[[\"False Positive Rate Diff\"]]\n",
    "    priv_dom_df = np.sum(d_sub>thresh, axis=1)/len(col_names)\n",
    "    unpriv_dom_df = np.sum(d_sub< -thresh, axis=1)/len(col_names)\n",
    "    for inter, val in priv_dom_df.items():\n",
    "        k = num_interventions(inter)\n",
    "        priv_dom[k].append(priv_dom_df.loc[inter])\n",
    "        unpriv_dom[k].append(unpriv_dom_df.loc[inter])\n",
    "\n",
    "priv_dom_mean = [round(np.mean(priv_dom[k])*100) for k in [0,1,2,3]]\n",
    "unpriv_dom_mean = [round(np.mean(unpriv_dom[k])*100) for k in [0,1,2,3]]\n",
    "priv_dom_mean, unpriv_dom_mean "
   ]
  },
  {
   "cell_type": "code",
   "execution_count": 52,
   "metadata": {},
   "outputs": [
    {
     "data": {
      "image/png": "[encoded data removed]",
      "text/plain": [
       "<Figure size 504x360 with 1 Axes>"
      ]
     },
     "metadata": {
      "needs_background": "light"
     },
     "output_type": "display_data"
    }
   ],
   "source": [
    "# percent of times privileged group performed worse than unprivileged group\n",
    "x = np.arange(4)\n",
    "x_lab = [\"Zero\", \"One\", \"Two\", \"Three\"]\n",
    "fig, ax = plt.subplots(figsize=(7, 5))\n",
    "\n",
    "width = 0.35\n",
    "rects1 = ax.bar(x - width/2, priv_dom_mean, label='Privileged', color='steelblue', edgecolor='steelblue', alpha=0.8, width=0.32)\n",
    "rects2 = ax.bar(x + width/2, unpriv_dom_mean, label='Unprivileged', color='orange', edgecolor='orange', alpha=0.8, width=0.32)\n",
    "\n",
    "plt.rcParams.update({'font.size': 14})\n",
    "ax.spines['top'].set_visible(False)\n",
    "ax.spines['right'].set_visible(False)\n",
    "ax.spines['left'].set_visible(False)\n",
    "ax.spines['bottom'].set_color('#DDDDDD')\n",
    "ax.tick_params(bottom=False, left=False)\n",
    "ax.set_axisbelow(True)\n",
    "ax.yaxis.grid(True, color='#EEEEEE')\n",
    "ax.xaxis.grid(False)\n",
    "ax.bar_label(rects1, padding=3)\n",
    "ax.bar_label(rects2, padding=3)\n",
    "ax.set_ylim([0, 63])\n",
    "ax.set_xticks(x, x_lab)\n",
    "#ax.set_ylabel('% of times group fairness metric <0.01')\n",
    "ax.set_ylabel('% dominance')\n",
    "ax.set_xlabel('Number of Interventions')\n",
    "ax.legend(loc=4, ncol=1)\n",
    "fig.tight_layout()\n",
    "#plt.show()\n",
    "fig.savefig('./figures/priv_unpriv_dom.png', dpi=600)"
   ]
  },
  {
   "cell_type": "markdown",
   "metadata": {},
   "source": [
    "<h3>Base Rate</h3>"
   ]
  },
  {
   "cell_type": "code",
   "execution_count": 20,
   "metadata": {},
   "outputs": [
    {
     "data": {
      "text/plain": [
       "OP - 3             0.203430\n",
       "OP - 11            0.201515\n",
       "OP - 17            0.212598\n",
       "OP + EOP - 3       0.128713\n",
       "OP + EOP - 11      0.134275\n",
       "                     ...   \n",
       "GSR + CEOP - 11    0.155305\n",
       "GSR + CEOP - 17    0.213572\n",
       "GSR + ROC - 3      0.384903\n",
       "GSR + ROC - 11     0.036168\n",
       "GSR + ROC - 17     0.356460\n",
       "Length: 180, dtype: float64"
      ]
     },
     "execution_count": 20,
     "metadata": {},
     "output_type": "execute_result"
    }
   ],
   "source": [
    "adult_df = pandas.read_csv(\"./data/All_Data -adult.csv\", index_col=0)\n",
    "(adult_df[\"Num True Pos - Privileged\"] + adult_df[\"Num False Pos - Privileged\"])/(adult_df[\"Num True Pos - Privileged\"] + adult_df[\"Num True Neg - Privileged\"] + adult_df[\"Num False Pos - Privileged\"] + adult_df[\"Num False Neg - Privileged\"])\n",
    "#adult_df.columns"
   ]
  },
  {
   "cell_type": "code",
   "execution_count": 19,
   "metadata": {},
   "outputs": [
    {
     "data": {
      "text/plain": [
       "OP - 3             0.2034\n",
       "OP - 11            0.2015\n",
       "OP - 17            0.2126\n",
       "OP + EOP - 3       0.1287\n",
       "OP + EOP - 11      0.1343\n",
       "                    ...  \n",
       "GSR + CEOP - 11    0.1553\n",
       "GSR + CEOP - 17    0.2136\n",
       "GSR + ROC - 3      0.3849\n",
       "GSR + ROC - 11     0.0362\n",
       "GSR + ROC - 17     0.3565\n",
       "Name: Privileged base Rate, Length: 180, dtype: float64"
      ]
     },
     "execution_count": 19,
     "metadata": {},
     "output_type": "execute_result"
    }
   ],
   "source": [
    "adult_df[\"Privileged base Rate\"]"
   ]
  },
  {
   "cell_type": "code",
   "execution_count": 54,
   "metadata": {},
   "outputs": [],
   "source": [
    "df = pd.concat([adult_df, german_df, bank_df, compas_df])\n",
    "#df = pd.concat([adult_df, german_df, compas_df])\n",
    "df = df[[\"Privileged base Rate\", \"Unprivileged base Rate\", \"base Rate\"]]\n",
    "#df = df.groupby(df.index).mean()\n",
    "\n",
    "#base_rate = {0:{\"priv\": [], \"unpriv\":[]}, 1:{\"priv\": [], \"unpriv\":[]}, 2:{\"priv\": [], \"unpriv\":[]}, 3:{\"priv\": [], \"unpriv\":[]}}\n",
    "base_rate = {0:{\"priv\": [], \"unpriv\":[], \"tot\":[]}, \n",
    "             1:{\"priv\": [], \"unpriv\":[], \"tot\":[]}, \n",
    "             2:{\"priv\": [], \"unpriv\":[], \"tot\":[]}, \n",
    "             3:{\"priv\": [], \"unpriv\":[], \"tot\":[]}}\n",
    "for index, row in df.iterrows():\n",
    "    k = num_interventions(index)\n",
    "    #print(index, k, round(row[\"Privileged base Rate\"],3), round(row[\"Unprivileged base Rate\"],3))\n",
    "    base_rate[k][\"priv\"].append(row[\"Privileged base Rate\"])\n",
    "    base_rate[k][\"unpriv\"].append(row[\"Unprivileged base Rate\"])\n",
    "    base_rate[k][\"tot\"].append(round(row[\"base Rate\"], 4))\n",
    "\n",
    "#base_rate"
   ]
  },
  {
   "cell_type": "code",
   "execution_count": 67,
   "metadata": {},
   "outputs": [
    {
     "name": "stdout",
     "output_type": "stream",
     "text": [
      "Mean\n",
      "priv:  [46, 44, 45, 50] unpriv:  [34, 38, 40, 44] tot:  [41, 42, 43, 48]\n",
      "Std error\n",
      "priv:  [8.53, 3.08, 1.9, 2.03] unpriv:  [6.37, 2.64, 1.76, 2.08] tot:  [7.91, 2.96, 1.85, 2.03]\n"
     ]
    }
   ],
   "source": [
    "priv_base = {}\n",
    "unpriv_base = {}\n",
    "tot_base = {}\n",
    "\n",
    "priv_err = {}\n",
    "unpriv_err = {}\n",
    "tot_err = {}\n",
    "\n",
    "for i in base_rate:\n",
    "    priv_base[i] = round(np.mean(base_rate[i][\"priv\"])*100)\n",
    "    unpriv_base[i] = round(np.mean(base_rate[i][\"unpriv\"])*100)\n",
    "    tot_base[i] = round(np.mean(base_rate[i][\"tot\"])*100)\n",
    "    \n",
    "    priv_err[i] = round(np.std(base_rate[i][\"priv\"])*100/(len(base_rate[i][\"priv\"])**0.5), 2)\n",
    "    unpriv_err[i] = round(np.std(base_rate[i][\"unpriv\"])*100/(len(base_rate[i][\"unpriv\"])**0.5), 2)\n",
    "    tot_err[i] = round(np.std(base_rate[i][\"tot\"])*100/(len(base_rate[i][\"tot\"])**0.5), 2)\n",
    "\n",
    "x = np.arange(4)\n",
    "priv_base = [priv_base[i] for i in x]\n",
    "unpriv_base = [unpriv_base[i] for i in x]\n",
    "tot_base = [tot_base[i] for i in x]\n",
    "x_lab = [\"Zero\", \"One\", \"Two\", \"Three\"]\n",
    "\n",
    "print(\"Mean\")\n",
    "print(\"priv: \",priv_base, \"unpriv: \", unpriv_base, \"tot: \", tot_base)\n",
    "\n",
    "print(\"Std error\")\n",
    "priv_err = [priv_err[i] for i in x]\n",
    "unpriv_err = [unpriv_err[i] for i in x]\n",
    "tot_err = [tot_err[i] for i in x]\n",
    "print(\"priv: \",priv_err, \"unpriv: \", unpriv_err, \"tot: \", tot_err)"
   ]
  },
  {
   "cell_type": "code",
   "execution_count": 66,
   "metadata": {},
   "outputs": [
    {
     "data": {
      "text/plain": [
       "252"
      ]
     },
     "execution_count": 66,
     "metadata": {},
     "output_type": "execute_result"
    }
   ],
   "source": [
    "len(base_rate[3][\"priv\"])"
   ]
  },
  {
   "cell_type": "code",
   "execution_count": 69,
   "metadata": {},
   "outputs": [
    {
     "data": {
      "image/png": "[encoded data removed]",
      "text/plain": [
       "<Figure size 432x270 with 1 Axes>"
      ]
     },
     "metadata": {
      "needs_background": "light"
     },
     "output_type": "display_data"
    }
   ],
   "source": [
    "# code: https://www.pythoncharts.com/matplotlib/grouped-bar-charts-matplotlib/\n",
    "width = 0.35  # the width of the bars\n",
    "\n",
    "#fig, ax = plt.subplots(figsize=(7, 5))\n",
    "fig, ax = plt.subplots(figsize=(6, 3.75))\n",
    "plt.rcParams.update({'font.size': 13})\n",
    "\n",
    "c1, c2 = 'royalblue', 'sandybrown'\n",
    "rects1 = ax.bar(x - width/2, priv_base, label='Privileged', yerr=priv_err, color=c1, edgecolor=c1, alpha=0.6, width=0.3, linewidth=2, hatch='.')\n",
    "rects2 = ax.bar(x + width/2, unpriv_base, label='Unprivileged', yerr=unpriv_err, color=c2, edgecolor=c2, alpha=0.6, width=0.3, linewidth=2, hatch='x')\n",
    "\n",
    "# Add some text for labels, title and custom x-axis tick labels, etc.\n",
    "ax.set_ylabel('Mean Base Rate', size=13)\n",
    "ax.set_xlabel('Number of Interventions', size=13)\n",
    "#ax.set_title('Mean Accuracy and F1 Score by number of Interventions')\n",
    "ax.set_xticks(x, x_lab)\n",
    "#ax.set_ylim([0, 58])\n",
    "#ax.legend(bbox_to_anchor=(0.5, 1.13), loc='upper center', ncol=2)\n",
    "ax.legend(loc='lower right', ncol=1)\n",
    "#ax.legend(bbox_to_anchor=(1.05, 1), ncol=1)\n",
    "\n",
    "ax.spines['top'].set_visible(False)\n",
    "ax.spines['right'].set_visible(False)\n",
    "ax.spines['left'].set_visible(False)\n",
    "ax.spines['bottom'].set_color('#DDDDDD')\n",
    "ax.tick_params(bottom=False, left=False)\n",
    "ax.set_axisbelow(True)\n",
    "ax.yaxis.grid(True, color='#EEEEEE')\n",
    "ax.xaxis.grid(False)\n",
    "\n",
    "ax.bar_label(rects1, padding=3)\n",
    "ax.bar_label(rects2, padding=3)\n",
    "\n",
    "fig.tight_layout()\n",
    "plt.show()\n",
    "#fig.savefig('./figures/base_rate.png', dpi=600)"
   ]
  },
  {
   "cell_type": "markdown",
   "metadata": {},
   "source": [
    "<h3>Privileged group gets Discriminated</h3>"
   ]
  },
  {
   "cell_type": "code",
   "execution_count": 30,
   "metadata": {},
   "outputs": [],
   "source": [
    "adult_df = pd.read_csv(\"./data/adult.csv\", index_col=0)\n",
    "compas_df = pd.read_csv(\"./data/compas.csv\", index_col=0)\n",
    "bank_df = pd.read_csv(\"./data/bank.csv\", index_col=0)\n",
    "german_df = pd.read_csv(\"./data/german.csv\", index_col=0)"
   ]
  },
  {
   "cell_type": "code",
   "execution_count": 91,
   "metadata": {},
   "outputs": [],
   "source": [
    "def grouped_bar_chart(xlabels, y1, y2, title):\n",
    "    # code: https://www.pythoncharts.com/matplotlib/grouped-bar-charts-matplotlib/\n",
    "    width = 0.35  # the width of the bars\n",
    "    x = np.arange(len(xlabels))\n",
    "    fig, ax = plt.subplots(figsize=(18, 8))\n",
    "    plt.rcParams.update({'font.size': 15})\n",
    "    #c1, c2 = 'royalblue', 'darksalmon'\n",
    "    c1, c2 = 'royalblue', 'sandybrown'\n",
    "    rects1 = ax.bar(x - width/2, y1, label='Privileged', color=c1, edgecolor=c1, alpha=0.6, width=0.3, linewidth=2, hatch='.')\n",
    "    rects2 = ax.bar(x + width/2, y2, label='Unprivileged', color=c2, edgecolor=c2, alpha=0.6, width=0.3, linewidth=2, hatch='x')\n",
    "\n",
    "    # Add some text for labels, title and custom x-axis tick labels, etc.\n",
    "    ax.set_ylabel('difference in FNR compared to baseline', size=17)\n",
    "    #ax.set_xlabel('Number of Interventions')\n",
    "    #ax.set_title('Change in False Positive Rate across different Interventions for COMPAS dataset', size=16)\n",
    "    #ax.set_title(title, size=16)\n",
    "    ax.set_xticks(x, xlabels, rotation = 90, size=15)\n",
    "    ax.set_ylim([-29, 29])\n",
    "    ax.legend()\n",
    "\n",
    "    ax.spines['top'].set_visible(False)\n",
    "    ax.spines['right'].set_visible(False)\n",
    "    ax.spines['left'].set_visible(False)\n",
    "    ax.spines['bottom'].set_color('#DDDDDD')\n",
    "    #ax.tick_params(bottom=False, left=False)\n",
    "    ax.set_axisbelow(True)\n",
    "    ax.yaxis.grid(True, color='#EEEEEE')\n",
    "    ax.xaxis.grid(False)\n",
    "\n",
    "    ax.bar_label(rects1, padding=3)\n",
    "    ax.bar_label(rects2, padding=3)\n",
    "\n",
    "    fig.tight_layout()\n",
    "    #plt.show()\n",
    "    #fig.savefig('./figures/base_rate.png', dpi=600)\n",
    "    return fig"
   ]
  },
  {
   "cell_type": "code",
   "execution_count": 33,
   "metadata": {},
   "outputs": [
    {
     "name": "stdout",
     "output_type": "stream",
     "text": [
      "-8.813 10.64 1.827\n",
      "-8.813 10.61 1.797\n",
      "-8.813 8.7 -0.117\n",
      "-8.813 10.64 1.827\n",
      "-8.813 -4.23 -13.047\n",
      "-8.813 17.66 8.847\n",
      "-8.813 10.27 1.453\n",
      "-8.813 3.48 -5.337\n",
      "-8.813 17.04 8.23\n",
      "-8.813 15.66 6.843\n",
      "-8.813 8.36 -0.457\n",
      "-8.813 9.17 0.353\n",
      "-8.813 8.73 -0.08\n"
     ]
    },
    {
     "data": {
      "image/png": "[encoded data removed]",
      "text/plain": [
       "<Figure size 1296x576 with 1 Axes>"
      ]
     },
     "metadata": {
      "needs_background": "light"
     },
     "output_type": "display_data"
    }
   ],
   "source": [
    "# Let's go with Compas dataset - False Positive Rate\n",
    "# For compas dataset, positive means - No recidivate (label:0)\n",
    "# so false positive means - Actually committed crime but labeled as innocent\n",
    "\n",
    "#for data in [adult_df, compas_df, german_df, bank_df]:\n",
    "for data in [adult_df]:\n",
    "    #cols = [\"False Positive Rate\", \"False Negative Rate\", \"False Discovery Rate\", \"False Omission Rate\"]\n",
    "    cols = [\"False Negative Rate\"]\n",
    "    for metric in cols:\n",
    "        b1 = data[metric + \" - Privileged\"][\"Logistic Regression\"]\n",
    "        b2 = data[metric + \" - Unprivileged\"][\"Logistic Regression\"]\n",
    "        #b1 = data['Privileged base Rate'][\"Logistic Regression\"]\n",
    "        #b2 = data['Unprivileged base Rate'][\"Logistic Regression\"]\n",
    "        m_ori = b1 - b2    # original metric value FPR Diff\n",
    "        res = {\"priv\":[], \"unpriv\": []}\n",
    "        row_names = []\n",
    "        for index, row in data.iterrows():\n",
    "            v1 = row[metric + \" - Privileged\"]\n",
    "            v2 = row[metric + \" - Unprivileged\"]\n",
    "            #v1 = row['Privileged base Rate']\n",
    "            #v2 = row['Unprivileged base Rate']\n",
    "            \n",
    "            if index in [\"OP + PR + CEOP\", \"OP + PR\"]:\n",
    "                continue\n",
    "            \n",
    "            m_new = v1 - v2    # new value for FPR Diff\n",
    "            d1, d2 = v1-b1, v2-b2  # delta change in value\n",
    "            #if abs(d1)>0.05 and abs(d2)>0.05 and d1*d2<0:\n",
    "            if abs(m_new)-abs(m_ori)<0.05 and 0.03<abs(d1)<0.26 and 0.03<abs(d2)<0.32:\n",
    "            #if abs(m_new)<abs(m_ori) and d1>0.01 and d2<0.01:\n",
    "                print(round(m_ori*100,3), round((d1-d2)*100,2),round(m_new*100,3))\n",
    "                res[\"priv\"].append(round(d1,2)*100)\n",
    "                res[\"unpriv\"].append(round(d2,2)*100)\n",
    "                row_names.append(index)\n",
    "\n",
    "        fig = grouped_bar_chart(row_names, res[\"priv\"], res[\"unpriv\"], metric)\n",
    "        #fig.savefig('./figures/fpr_compas.png', dpi=600)\n",
    "        fig.savefig('./figures/fnr_adult.png', dpi=600)"
   ]
  },
  {
   "cell_type": "code",
   "execution_count": 138,
   "metadata": {},
   "outputs": [
    {
     "name": "stderr",
     "output_type": "stream",
     "text": [
      "WARNING:root:Missing Data: 5 rows removed from CompasDataset.\n"
     ]
    },
    {
     "data": {
      "text/html": [
       "<div>\n",
       "<style scoped>\n",
       "    .dataframe tbody tr th:only-of-type {\n",
       "        vertical-align: middle;\n",
       "    }\n",
       "\n",
       "    .dataframe tbody tr th {\n",
       "        vertical-align: top;\n",
       "    }\n",
       "\n",
       "    .dataframe thead th {\n",
       "        text-align: right;\n",
       "    }\n",
       "</style>\n",
       "<table border=\"1\" class=\"dataframe\">\n",
       "  <thead>\n",
       "    <tr style=\"text-align: right;\">\n",
       "      <th>two_year_recid</th>\n",
       "      <th>0.0</th>\n",
       "      <th>1.0</th>\n",
       "    </tr>\n",
       "    <tr>\n",
       "      <th>race</th>\n",
       "      <th></th>\n",
       "      <th></th>\n",
       "    </tr>\n",
       "  </thead>\n",
       "  <tbody>\n",
       "    <tr>\n",
       "      <th>0.0</th>\n",
       "      <td>2080</td>\n",
       "      <td>1987</td>\n",
       "    </tr>\n",
       "    <tr>\n",
       "      <th>1.0</th>\n",
       "      <td>1278</td>\n",
       "      <td>822</td>\n",
       "    </tr>\n",
       "  </tbody>\n",
       "</table>\n",
       "</div>"
      ],
      "text/plain": [
       "two_year_recid   0.0   1.0\n",
       "race                      \n",
       "0.0             2080  1987\n",
       "1.0             1278   822"
      ]
     },
     "execution_count": 138,
     "metadata": {},
     "output_type": "execute_result"
    }
   ],
   "source": [
    "#pd.crosstab(compas_df[])\n",
    "from aif360.datasets import CompasDataset\n",
    "c = CompasDataset().convert_to_dataframe()[0]\n",
    "pd.crosstab(c[\"race\"], c[\"two_year_recid\"])"
   ]
  },
  {
   "cell_type": "markdown",
   "metadata": {},
   "source": [
    "<h3>Error rate gets worse</h3>"
   ]
  },
  {
   "cell_type": "code",
   "execution_count": 14,
   "metadata": {},
   "outputs": [],
   "source": [
    "adult_df = pd.read_csv(\"./data/adult.csv\", index_col=0)\n",
    "compas_df = pd.read_csv(\"./data/compas.csv\", index_col=0)\n",
    "bank_df = pd.read_csv(\"./data/bank.csv\", index_col=0)\n",
    "german_df = pd.read_csv(\"./data/german.csv\", index_col=0)"
   ]
  },
  {
   "cell_type": "code",
   "execution_count": 48,
   "metadata": {},
   "outputs": [],
   "source": [
    "def make_plot(y1, y2, metric):\n",
    "    xlabels = [\"One\", \"Two\", \"Three\"]\n",
    "\n",
    "    width = 0.35  # the width of the bars\n",
    "    x = np.arange(len(xlabels))\n",
    "    fig, ax = plt.subplots(figsize=(5, 3.75))\n",
    "    plt.rcParams.update({'font.size': 13})\n",
    "    c1, c2 = 'royalblue', 'sandybrown'\n",
    "    rects1 = ax.bar(x - width/2, y1, label='Privileged', color=c1, edgecolor=c1, alpha=0.6, width=0.3, linewidth=2, hatch='.')\n",
    "    rects2 = ax.bar(x + width/2, y2, label='Unprivileged', color=c2, edgecolor=c2, alpha=0.6, width=0.3, linewidth=2, hatch='x')\n",
    "\n",
    "    # Add some text for labels, title and custom x-axis tick labels, etc.\n",
    "    ylabel = ''\n",
    "    if metric==\"F1 Score\":\n",
    "        ylabel = '% times f1 score improves'\n",
    "    elif metric==\"False Positive Rate\":\n",
    "        ylabel = '% times FPR increases'\n",
    "    elif metric==\"False Negative Rate\":\n",
    "        ylabel = '% times FNR increases'\n",
    "    ax.set_ylabel(ylabel, size=13)\n",
    "    ax.set_xlabel('Number of Interventions')\n",
    "    #ax.set_title('Change in False Positive Rate across different Interventions for COMPAS dataset', size=16)\n",
    "    #ax.set_title(title, size=16)\n",
    "    ax.set_xticks(x, xlabels, rotation = 0, size=13)\n",
    "    #ax.set_ylim([30, 70])\n",
    "    if metric==\"False Positive Rate\":\n",
    "        #ax.set_ylim([0, 30])\n",
    "        ax.legend(loc='lower right')\n",
    "        #ax.legend(loc='upper right', bbox_to_anchor=(1, 1))\n",
    "        #ax.legend(loc='lower right', bbox_to_anchor=(1, 0))\n",
    "\n",
    "    ax.spines['top'].set_visible(False)\n",
    "    ax.spines['right'].set_visible(False)\n",
    "    ax.spines['left'].set_visible(False)\n",
    "    ax.spines['bottom'].set_color('#DDDDDD')\n",
    "    #ax.tick_params(bottom=False, left=False)\n",
    "    ax.set_axisbelow(True)\n",
    "    ax.yaxis.grid(True, color='#EEEEEE')\n",
    "    ax.xaxis.grid(False)\n",
    "\n",
    "    ax.bar_label(rects1, padding=3)\n",
    "    ax.bar_label(rects2, padding=3)\n",
    "\n",
    "    fig.tight_layout()\n",
    "    fig.savefig('./figures/'+metric+'.png', dpi=600)"
   ]
  },
  {
   "cell_type": "code",
   "execution_count": 49,
   "metadata": {},
   "outputs": [
    {
     "name": "stdout",
     "output_type": "stream",
     "text": [
      "Metric:  False Positive Rate\n",
      "{'priv': [13, 43, 41], 'unpriv': [20, 65, 60]}\n",
      "[37, 44, 49] [57, 67, 71]\n",
      "Metric:  False Negative Rate\n",
      "{'priv': [20, 68, 58], 'unpriv': [16, 55, 44]}\n",
      "[57, 70, 69] [46, 57, 52]\n"
     ]
    },
    {
     "data": {
      "image/png": "[encoded data removed]",
      "text/plain": [
       "<Figure size 360x270 with 1 Axes>"
      ]
     },
     "metadata": {
      "needs_background": "light"
     },
     "output_type": "display_data"
    },
    {
     "data": {
      "image/png": "[encoded data removed]",
      "text/plain": [
       "<Figure size 360x270 with 1 Axes>"
      ]
     },
     "metadata": {
      "needs_background": "light"
     },
     "output_type": "display_data"
    }
   ],
   "source": [
    "#cols = [\"False Positive Rate\", \"False Negative Rate\", \"False Discovery Rate\", \"False Omission Rate\", \"Accuracy\"]\n",
    "cols = [\"False Positive Rate\", \"False Negative Rate\"]\n",
    "    \n",
    "for metric in cols:  \n",
    "    print(\"Metric: \", metric)\n",
    "    res = {\"priv\":[0, 0, 0], \"unpriv\": [0, 0, 0]}\n",
    "    tot_cases = [0, 0, 0]\n",
    "\n",
    "    for data in [adult_df, compas_df, german_df, bank_df]:\n",
    "    #for data in [adult_df]:\n",
    "\n",
    "        base_p = data[metric + \" - Privileged\"][\"Logistic Regression\"]\n",
    "        base_u = data[metric + \" - Unprivileged\"][\"Logistic Regression\"]\n",
    "        \n",
    "    \n",
    "        for index, row in data.iterrows():\n",
    "            if index == \"Logistic Regression\":\n",
    "                continue\n",
    "                \n",
    "            new_p = row[metric + \" - Privileged\"]\n",
    "            new_u = row[metric + \" - Unprivileged\"]\n",
    "            \n",
    "            n = num_interventions(index)\n",
    "            tot_cases[n-1] += 1\n",
    "            \n",
    "            if metric not in [\"F1 Score\", \"Accuracy\"]:     \n",
    "                    \n",
    "                if abs(new_p)>abs(base_p):\n",
    "                    res[\"priv\"][n-1] += 1\n",
    "\n",
    "                if abs(new_u)>abs(base_u):\n",
    "                    res[\"unpriv\"][n-1] += 1\n",
    "            else:\n",
    "                \n",
    "                if abs(new_p)>=abs(base_p):\n",
    "                    res[\"priv\"][n-1] += 1\n",
    "\n",
    "                if abs(new_u)>=abs(base_u):\n",
    "                    res[\"unpriv\"][n-1] += 1\n",
    "        \n",
    "    print(res)\n",
    "    priv_per = [round(res[\"priv\"][i]/tot_cases[i]*100) for i in [0,1,2]]\n",
    "    unpriv_per = [round(res[\"unpriv\"][i]/tot_cases[i]*100) for i in [0,1,2]]\n",
    "    print(priv_per, unpriv_per)\n",
    "    make_plot(priv_per, unpriv_per, metric)"
   ]
  },
  {
   "cell_type": "markdown",
   "metadata": {},
   "source": [
    "<h3>F1 score and Accuracy by group</h3>"
   ]
  },
  {
   "cell_type": "code",
   "execution_count": 16,
   "metadata": {},
   "outputs": [
    {
     "data": {
      "text/plain": [
       "(660, 30)"
      ]
     },
     "execution_count": 16,
     "metadata": {},
     "output_type": "execute_result"
    }
   ],
   "source": [
    "#adult_df = pd.read_csv(\"./data/adult.csv\", index_col=0)\n",
    "#compas_df = pd.read_csv(\"./data/compas.csv\", index_col=0)\n",
    "#bank_df = pd.read_csv(\"./data/bank.csv\", index_col=0)\n",
    "#german_df = pd.read_csv(\"./data/german.csv\", index_col=0)\n",
    "\n",
    "adult_df = pandas.read_csv(\"./data/All_Data -adult.csv\", index_col=0)\n",
    "compas_df = pandas.read_csv(\"./data/All_Data -compas.csv\", index_col=0)\n",
    "bank_df = pandas.read_csv(\"./data/All_Data -bank.csv\", index_col=0)\n",
    "german_df = pandas.read_csv(\"./data/All_Data -german.csv\", index_col=0)\n",
    "\n",
    "all_data = pd.concat([adult_df, compas_df, bank_df, german_df])\n",
    "#all_data = pd.concat([adult_df])\n",
    "all_data.shape"
   ]
  },
  {
   "cell_type": "code",
   "execution_count": 17,
   "metadata": {},
   "outputs": [
    {
     "data": {
      "text/html": [
       "<div>\n",
       "<style scoped>\n",
       "    .dataframe tbody tr th:only-of-type {\n",
       "        vertical-align: middle;\n",
       "    }\n",
       "\n",
       "    .dataframe tbody tr th {\n",
       "        vertical-align: top;\n",
       "    }\n",
       "\n",
       "    .dataframe thead th {\n",
       "        text-align: right;\n",
       "    }\n",
       "</style>\n",
       "<table border=\"1\" class=\"dataframe\">\n",
       "  <thead>\n",
       "    <tr style=\"text-align: right;\">\n",
       "      <th></th>\n",
       "      <th>Accuracy</th>\n",
       "      <th>F1 Score</th>\n",
       "      <th>Theil Index</th>\n",
       "      <th>False Positive Rate - Unprivileged</th>\n",
       "      <th>False Positive Rate - Privileged</th>\n",
       "      <th>False Negative Rate - Unprivileged</th>\n",
       "      <th>False Negative Rate - Privileged</th>\n",
       "      <th>Accuracy - Unprivileged</th>\n",
       "      <th>Accuracy - Privileged</th>\n",
       "      <th>False Discovery Rate - Unprivileged</th>\n",
       "      <th>...</th>\n",
       "      <th>Num True Pos - Unprivileged</th>\n",
       "      <th>Num True Neg - Unprivileged</th>\n",
       "      <th>Num False Pos - Unprivileged</th>\n",
       "      <th>Num False Neg - Unprivileged</th>\n",
       "      <th>F1 Score - Privileged</th>\n",
       "      <th>F1 Score - Unprivileged</th>\n",
       "      <th>Privileged base Rate</th>\n",
       "      <th>Unprivileged base Rate</th>\n",
       "      <th>Consistency</th>\n",
       "      <th>num_inter</th>\n",
       "    </tr>\n",
       "  </thead>\n",
       "  <tbody>\n",
       "    <tr>\n",
       "      <th>OP - 3</th>\n",
       "      <td>0.7878</td>\n",
       "      <td>0.4844</td>\n",
       "      <td>0.1840</td>\n",
       "      <td>0.0628</td>\n",
       "      <td>0.1015</td>\n",
       "      <td>0.7212</td>\n",
       "      <td>0.5744</td>\n",
       "      <td>0.8643</td>\n",
       "      <td>0.7498</td>\n",
       "      <td>0.6437</td>\n",
       "      <td>...</td>\n",
       "      <td>150.0</td>\n",
       "      <td>4047.0</td>\n",
       "      <td>271.0</td>\n",
       "      <td>388.0</td>\n",
       "      <td>0.5169</td>\n",
       "      <td>0.3128</td>\n",
       "      <td>0.2034</td>\n",
       "      <td>0.0867</td>\n",
       "      <td>0.9842</td>\n",
       "      <td>1</td>\n",
       "    </tr>\n",
       "    <tr>\n",
       "      <th>OP - 11</th>\n",
       "      <td>0.7898</td>\n",
       "      <td>0.4764</td>\n",
       "      <td>0.1788</td>\n",
       "      <td>0.0680</td>\n",
       "      <td>0.1031</td>\n",
       "      <td>0.7371</td>\n",
       "      <td>0.5743</td>\n",
       "      <td>0.8632</td>\n",
       "      <td>0.7531</td>\n",
       "      <td>0.6930</td>\n",
       "      <td>...</td>\n",
       "      <td>132.0</td>\n",
       "      <td>4082.0</td>\n",
       "      <td>298.0</td>\n",
       "      <td>370.0</td>\n",
       "      <td>0.5127</td>\n",
       "      <td>0.2833</td>\n",
       "      <td>0.2015</td>\n",
       "      <td>0.0881</td>\n",
       "      <td>0.9687</td>\n",
       "      <td>1</td>\n",
       "    </tr>\n",
       "    <tr>\n",
       "      <th>OP - 17</th>\n",
       "      <td>0.7934</td>\n",
       "      <td>0.4929</td>\n",
       "      <td>0.1707</td>\n",
       "      <td>0.0703</td>\n",
       "      <td>0.1102</td>\n",
       "      <td>0.7135</td>\n",
       "      <td>0.5456</td>\n",
       "      <td>0.8590</td>\n",
       "      <td>0.7603</td>\n",
       "      <td>0.6652</td>\n",
       "      <td>...</td>\n",
       "      <td>155.0</td>\n",
       "      <td>4072.0</td>\n",
       "      <td>308.0</td>\n",
       "      <td>386.0</td>\n",
       "      <td>0.5301</td>\n",
       "      <td>0.3088</td>\n",
       "      <td>0.2126</td>\n",
       "      <td>0.0941</td>\n",
       "      <td>0.9834</td>\n",
       "      <td>1</td>\n",
       "    </tr>\n",
       "    <tr>\n",
       "      <th>OP + EOP - 3</th>\n",
       "      <td>0.7727</td>\n",
       "      <td>0.3717</td>\n",
       "      <td>0.2177</td>\n",
       "      <td>0.0628</td>\n",
       "      <td>0.0634</td>\n",
       "      <td>0.7212</td>\n",
       "      <td>0.7289</td>\n",
       "      <td>0.8643</td>\n",
       "      <td>0.7274</td>\n",
       "      <td>0.6437</td>\n",
       "      <td>...</td>\n",
       "      <td>150.0</td>\n",
       "      <td>4047.0</td>\n",
       "      <td>271.0</td>\n",
       "      <td>388.0</td>\n",
       "      <td>0.3847</td>\n",
       "      <td>0.3128</td>\n",
       "      <td>0.1287</td>\n",
       "      <td>0.0867</td>\n",
       "      <td>0.9211</td>\n",
       "      <td>2</td>\n",
       "    </tr>\n",
       "    <tr>\n",
       "      <th>OP + EOP - 11</th>\n",
       "      <td>0.7737</td>\n",
       "      <td>0.3698</td>\n",
       "      <td>0.2099</td>\n",
       "      <td>0.0760</td>\n",
       "      <td>0.0697</td>\n",
       "      <td>0.7331</td>\n",
       "      <td>0.7186</td>\n",
       "      <td>0.8564</td>\n",
       "      <td>0.7324</td>\n",
       "      <td>0.7131</td>\n",
       "      <td>...</td>\n",
       "      <td>134.0</td>\n",
       "      <td>4047.0</td>\n",
       "      <td>333.0</td>\n",
       "      <td>368.0</td>\n",
       "      <td>0.3909</td>\n",
       "      <td>0.2766</td>\n",
       "      <td>0.1343</td>\n",
       "      <td>0.0957</td>\n",
       "      <td>0.9175</td>\n",
       "      <td>2</td>\n",
       "    </tr>\n",
       "  </tbody>\n",
       "</table>\n",
       "<p>5 rows × 31 columns</p>\n",
       "</div>"
      ],
      "text/plain": [
       "               Accuracy  F1 Score  Theil Index  \\\n",
       "OP - 3           0.7878    0.4844       0.1840   \n",
       "OP - 11          0.7898    0.4764       0.1788   \n",
       "OP - 17          0.7934    0.4929       0.1707   \n",
       "OP + EOP - 3     0.7727    0.3717       0.2177   \n",
       "OP + EOP - 11    0.7737    0.3698       0.2099   \n",
       "\n",
       "               False Positive Rate - Unprivileged  \\\n",
       "OP - 3                                     0.0628   \n",
       "OP - 11                                    0.0680   \n",
       "OP - 17                                    0.0703   \n",
       "OP + EOP - 3                               0.0628   \n",
       "OP + EOP - 11                              0.0760   \n",
       "\n",
       "               False Positive Rate - Privileged  \\\n",
       "OP - 3                                   0.1015   \n",
       "OP - 11                                  0.1031   \n",
       "OP - 17                                  0.1102   \n",
       "OP + EOP - 3                             0.0634   \n",
       "OP + EOP - 11                            0.0697   \n",
       "\n",
       "               False Negative Rate - Unprivileged  \\\n",
       "OP - 3                                     0.7212   \n",
       "OP - 11                                    0.7371   \n",
       "OP - 17                                    0.7135   \n",
       "OP + EOP - 3                               0.7212   \n",
       "OP + EOP - 11                              0.7331   \n",
       "\n",
       "               False Negative Rate - Privileged  Accuracy - Unprivileged  \\\n",
       "OP - 3                                   0.5744                   0.8643   \n",
       "OP - 11                                  0.5743                   0.8632   \n",
       "OP - 17                                  0.5456                   0.8590   \n",
       "OP + EOP - 3                             0.7289                   0.8643   \n",
       "OP + EOP - 11                            0.7186                   0.8564   \n",
       "\n",
       "               Accuracy - Privileged  False Discovery Rate - Unprivileged  \\\n",
       "OP - 3                        0.7498                               0.6437   \n",
       "OP - 11                       0.7531                               0.6930   \n",
       "OP - 17                       0.7603                               0.6652   \n",
       "OP + EOP - 3                  0.7274                               0.6437   \n",
       "OP + EOP - 11                 0.7324                               0.7131   \n",
       "\n",
       "               ...  Num True Pos - Unprivileged  Num True Neg - Unprivileged  \\\n",
       "OP - 3         ...                        150.0                       4047.0   \n",
       "OP - 11        ...                        132.0                       4082.0   \n",
       "OP - 17        ...                        155.0                       4072.0   \n",
       "OP + EOP - 3   ...                        150.0                       4047.0   \n",
       "OP + EOP - 11  ...                        134.0                       4047.0   \n",
       "\n",
       "               Num False Pos - Unprivileged  Num False Neg - Unprivileged  \\\n",
       "OP - 3                                271.0                         388.0   \n",
       "OP - 11                               298.0                         370.0   \n",
       "OP - 17                               308.0                         386.0   \n",
       "OP + EOP - 3                          271.0                         388.0   \n",
       "OP + EOP - 11                         333.0                         368.0   \n",
       "\n",
       "               F1 Score - Privileged  F1 Score - Unprivileged  \\\n",
       "OP - 3                        0.5169                   0.3128   \n",
       "OP - 11                       0.5127                   0.2833   \n",
       "OP - 17                       0.5301                   0.3088   \n",
       "OP + EOP - 3                  0.3847                   0.3128   \n",
       "OP + EOP - 11                 0.3909                   0.2766   \n",
       "\n",
       "               Privileged base Rate  Unprivileged base Rate  Consistency  \\\n",
       "OP - 3                       0.2034                  0.0867       0.9842   \n",
       "OP - 11                      0.2015                  0.0881       0.9687   \n",
       "OP - 17                      0.2126                  0.0941       0.9834   \n",
       "OP + EOP - 3                 0.1287                  0.0867       0.9211   \n",
       "OP + EOP - 11                0.1343                  0.0957       0.9175   \n",
       "\n",
       "               num_inter  \n",
       "OP - 3                 1  \n",
       "OP - 11                1  \n",
       "OP - 17                1  \n",
       "OP + EOP - 3           2  \n",
       "OP + EOP - 11          2  \n",
       "\n",
       "[5 rows x 31 columns]"
      ]
     },
     "execution_count": 17,
     "metadata": {},
     "output_type": "execute_result"
    }
   ],
   "source": [
    "all_data[\"num_inter\"] = [num_interventions(n) for n in all_data.index]\n",
    "all_data.head()"
   ]
  },
  {
   "cell_type": "code",
   "execution_count": 18,
   "metadata": {},
   "outputs": [
    {
     "name": "stdout",
     "output_type": "stream",
     "text": [
      "[68, 62, 58, 59] [3.38, 1.76, 1.26, 1.31]\n",
      "[79, 75, 72, 70] [2.66, 1.26, 0.83, 0.82]\n"
     ]
    }
   ],
   "source": [
    "f1_mean = all_data.groupby(\"num_inter\").mean()[\"F1 Score\"].tolist()\n",
    "f1_mean = [round(x*100) for x in f1_mean]\n",
    "f1_err = all_data.groupby(\"num_inter\").std()[\"F1 Score\"]/(all_data.groupby(\"num_inter\").size()**0.5).tolist()\n",
    "f1_err = [round(x*100, 2) for x in f1_err]\n",
    "print(f1_mean, f1_err)\n",
    "\n",
    "acc_mean = all_data.groupby(\"num_inter\").mean()[\"Accuracy\"].tolist()\n",
    "acc_mean = [round(x*100) for x in acc_mean]\n",
    "acc_err = all_data.groupby(\"num_inter\").std()[\"Accuracy\"]/(all_data.groupby(\"num_inter\").size()**0.5).tolist()\n",
    "acc_err = [round(x*100, 2) for x in acc_err]\n",
    "print(acc_mean, acc_err)"
   ]
  },
  {
   "cell_type": "code",
   "execution_count": 22,
   "metadata": {},
   "outputs": [
    {
     "data": {
      "image/png": "[encoded data removed]",
      "text/plain": [
       "<Figure size 504x360 with 1 Axes>"
      ]
     },
     "metadata": {
      "needs_background": "light"
     },
     "output_type": "display_data"
    }
   ],
   "source": [
    "width = 0.35  # the width of the bars\n",
    "x = x = np.arange(4)\n",
    "labels = [\"Zero\", \"One\", \"Two\", \"Three\"]\n",
    "\n",
    "fig, ax = plt.subplots(figsize=(7, 5))\n",
    "plt.rcParams.update({'font.size': 15})\n",
    "rects1 = ax.bar(x - width/2, acc_mean, label='Accuracy', yerr=acc_err, color='steelblue', edgecolor='steelblue', alpha=0.6, width=0.32, hatch='x')\n",
    "rects2 = ax.bar(x + width/2, f1_mean, label='F1 Score', yerr=f1_err, color='lightgrey', edgecolor='darkgrey', alpha=0.6, width=0.32, hatch='.')\n",
    "\n",
    "# Add some text for labels, title and custom x-axis tick labels, etc.\n",
    "#ax.set_ylabel('Metric value', size=15)\n",
    "ax.set_ylabel('Percent value', size=15)\n",
    "ax.set_xlabel('Number of Interventions', size=15)\n",
    "#ax.set_title('Mean Accuracy and F1 Score by number of Interventions')\n",
    "ax.set_xticks(x, labels, size=15)\n",
    "ax.set_ylim([0, 88])\n",
    "ax.legend(bbox_to_anchor=(0.5, 1.13), loc='upper center', ncol=2)\n",
    "\n",
    "ax.spines['top'].set_visible(False)\n",
    "ax.spines['right'].set_visible(False)\n",
    "ax.spines['left'].set_visible(False)\n",
    "ax.spines['bottom'].set_color('#DDDDDD')\n",
    "ax.tick_params(bottom=False, left=False)\n",
    "ax.set_axisbelow(True)\n",
    "ax.yaxis.grid(True, color='#EEEEEE')\n",
    "ax.xaxis.grid(False)\n",
    "\n",
    "ax.bar_label(rects1, padding=3)\n",
    "ax.bar_label(rects2, padding=3)\n",
    "\n",
    "fig.tight_layout()\n",
    "#plt.show()\n",
    "fig.savefig('./figures/utility_by_intervention.png', dpi=600)"
   ]
  },
  {
   "cell_type": "code",
   "execution_count": 90,
   "metadata": {},
   "outputs": [],
   "source": [
    "f1_p = all_data.groupby(\"num_inter\").mean()[\"F1 Score - Privileged\"].tolist()\n",
    "f1_u = all_data.groupby(\"num_inter\").mean()[\"F1 Score - Unprivileged\"].tolist()\n",
    "\n",
    "f1_p_err = all_data.groupby(\"num_inter\").std()[\"F1 Score - Privileged\"]/(all_data.groupby(\"num_inter\").size()**0.5).tolist()\n",
    "f1_u_err = all_data.groupby(\"num_inter\").std()[\"F1 Score - Unprivileged\"]/(all_data.groupby(\"num_inter\").size()**0.5).tolist()"
   ]
  },
  {
   "cell_type": "code",
   "execution_count": 91,
   "metadata": {},
   "outputs": [
    {
     "name": "stdout",
     "output_type": "stream",
     "text": [
      "[69, 64, 60, 61] [63, 56, 51, 49]\n",
      "[3.73, 1.9, 1.34, 1.39] [1.78, 1.6, 1.22, 1.38]\n"
     ]
    }
   ],
   "source": [
    "f1_p = [round(x*100) for x in f1_p]\n",
    "f1_u = [round(x*100) for x in f1_u]\n",
    "\n",
    "f1_p_err = [round(x*100,2) for x in f1_p_err]\n",
    "f1_u_err = [round(x*100,2) for x in f1_u_err]\n",
    "\n",
    "print(f1_p, f1_u)\n",
    "print(f1_p_err, f1_u_err)"
   ]
  },
  {
   "cell_type": "code",
   "execution_count": 92,
   "metadata": {},
   "outputs": [
    {
     "name": "stdout",
     "output_type": "stream",
     "text": [
      "Ttest_indResult(statistic=1.5353213658105023, pvalue=0.1389624579303136)\n",
      "Ttest_indResult(statistic=3.1071462173795683, pvalue=0.0021528429492939545)\n",
      "Ttest_indResult(statistic=5.055043585935102, pvalue=5.777544913666047e-07)\n",
      "Ttest_indResult(statistic=6.336682688313132, pvalue=5.227918191907225e-10)\n",
      "Accuracy\n",
      "Ttest_indResult(statistic=0.44464271549725687, pvalue=0.6609215621824925)\n",
      "Ttest_indResult(statistic=1.612842601438119, pvalue=0.10829487772987226)\n",
      "Ttest_indResult(statistic=2.1796538048361347, pvalue=0.029684619366500572)\n",
      "Ttest_indResult(statistic=2.464919859085577, pvalue=0.014038073980346878)\n"
     ]
    }
   ],
   "source": [
    "for num_interven in [0,1,2,3]:\n",
    "    p = all_data[all_data[\"num_inter\"]==num_interven][\"F1 Score - Privileged\"]\n",
    "    u = all_data[all_data[\"num_inter\"]==num_interven][\"F1 Score - Unprivileged\"]\n",
    "    print(ttest_ind(p, u))\n",
    "    \n",
    "print(\"Accuracy\")\n",
    "for num_interven in [0,1,2,3]:\n",
    "    p = all_data[all_data[\"num_inter\"]==num_interven][\"Accuracy - Privileged\"]\n",
    "    u = all_data[all_data[\"num_inter\"]==num_interven][\"Accuracy - Unprivileged\"]\n",
    "    print(ttest_ind(p, u))"
   ]
  },
  {
   "cell_type": "code",
   "execution_count": 19,
   "metadata": {},
   "outputs": [
    {
     "data": {
      "text/html": [
       "<div>\n",
       "<style scoped>\n",
       "    .dataframe tbody tr th:only-of-type {\n",
       "        vertical-align: middle;\n",
       "    }\n",
       "\n",
       "    .dataframe tbody tr th {\n",
       "        vertical-align: top;\n",
       "    }\n",
       "\n",
       "    .dataframe thead th {\n",
       "        text-align: right;\n",
       "    }\n",
       "</style>\n",
       "<table border=\"1\" class=\"dataframe\">\n",
       "  <thead>\n",
       "    <tr style=\"text-align: right;\">\n",
       "      <th></th>\n",
       "      <th>Accuracy</th>\n",
       "      <th>Accuracy - Unprivileged</th>\n",
       "      <th>Accuracy - Privileged</th>\n",
       "    </tr>\n",
       "  </thead>\n",
       "  <tbody>\n",
       "    <tr>\n",
       "      <th>OP</th>\n",
       "      <td>0.790333</td>\n",
       "      <td>0.862167</td>\n",
       "      <td>0.754400</td>\n",
       "    </tr>\n",
       "    <tr>\n",
       "      <th>OP + EOP</th>\n",
       "      <td>0.774533</td>\n",
       "      <td>0.859400</td>\n",
       "      <td>0.732133</td>\n",
       "    </tr>\n",
       "    <tr>\n",
       "      <th>OP + CEOP</th>\n",
       "      <td>0.790333</td>\n",
       "      <td>0.862167</td>\n",
       "      <td>0.754400</td>\n",
       "    </tr>\n",
       "    <tr>\n",
       "      <th>OP + ROC</th>\n",
       "      <td>0.684867</td>\n",
       "      <td>0.645900</td>\n",
       "      <td>0.704433</td>\n",
       "    </tr>\n",
       "    <tr>\n",
       "      <th>OP + GFC</th>\n",
       "      <td>0.786900</td>\n",
       "      <td>0.864600</td>\n",
       "      <td>0.748033</td>\n",
       "    </tr>\n",
       "    <tr>\n",
       "      <th>...</th>\n",
       "      <td>...</td>\n",
       "      <td>...</td>\n",
       "      <td>...</td>\n",
       "    </tr>\n",
       "    <tr>\n",
       "      <th>EGR + ROC</th>\n",
       "      <td>0.741133</td>\n",
       "      <td>0.591000</td>\n",
       "      <td>0.778033</td>\n",
       "    </tr>\n",
       "    <tr>\n",
       "      <th>GSR</th>\n",
       "      <td>0.742233</td>\n",
       "      <td>0.616167</td>\n",
       "      <td>0.773933</td>\n",
       "    </tr>\n",
       "    <tr>\n",
       "      <th>GSR + EOP</th>\n",
       "      <td>0.713367</td>\n",
       "      <td>0.616167</td>\n",
       "      <td>0.737767</td>\n",
       "    </tr>\n",
       "    <tr>\n",
       "      <th>GSR + CEOP</th>\n",
       "      <td>0.725567</td>\n",
       "      <td>0.616167</td>\n",
       "      <td>0.753033</td>\n",
       "    </tr>\n",
       "    <tr>\n",
       "      <th>GSR + ROC</th>\n",
       "      <td>0.615567</td>\n",
       "      <td>0.692200</td>\n",
       "      <td>0.595267</td>\n",
       "    </tr>\n",
       "  </tbody>\n",
       "</table>\n",
       "<p>220 rows × 3 columns</p>\n",
       "</div>"
      ],
      "text/plain": [
       "            Accuracy  Accuracy - Unprivileged  Accuracy - Privileged\n",
       "OP          0.790333                 0.862167               0.754400\n",
       "OP + EOP    0.774533                 0.859400               0.732133\n",
       "OP + CEOP   0.790333                 0.862167               0.754400\n",
       "OP + ROC    0.684867                 0.645900               0.704433\n",
       "OP + GFC    0.786900                 0.864600               0.748033\n",
       "...              ...                      ...                    ...\n",
       "EGR + ROC   0.741133                 0.591000               0.778033\n",
       "GSR         0.742233                 0.616167               0.773933\n",
       "GSR + EOP   0.713367                 0.616167               0.737767\n",
       "GSR + CEOP  0.725567                 0.616167               0.753033\n",
       "GSR + ROC   0.615567                 0.692200               0.595267\n",
       "\n",
       "[220 rows x 3 columns]"
      ]
     },
     "execution_count": 19,
     "metadata": {},
     "output_type": "execute_result"
    }
   ],
   "source": [
    "all_data[[\"Accuracy\", \"Accuracy - Unprivileged\", \"Accuracy - Privileged\"]]"
   ]
  },
  {
   "cell_type": "code",
   "execution_count": 93,
   "metadata": {},
   "outputs": [
    {
     "name": "stdout",
     "output_type": "stream",
     "text": [
      "0.7925 0.7927 0.7927\n",
      "0.6388 0.6389 0.6389\n",
      "0.8488 0.8488 0.8496\n"
     ]
    }
   ],
   "source": [
    "# checking if net accuracy is always in between of the two groups\n",
    "for index, row in all_data.iterrows():\n",
    "    max_acc = max(row[\"Accuracy - Unprivileged\"], row[\"Accuracy - Privileged\"])\n",
    "    min_acc = min(row[\"Accuracy - Unprivileged\"], row[\"Accuracy - Privileged\"])\n",
    "    if not (min_acc<row[\"Accuracy\"] and row[\"Accuracy\"]<max_acc):\n",
    "        print(min_acc, row[\"Accuracy\"], max_acc)"
   ]
  },
  {
   "cell_type": "code",
   "execution_count": 95,
   "metadata": {},
   "outputs": [
    {
     "data": {
      "text/plain": [
       "num_inter\n",
       "0    0.792525\n",
       "1    0.754819\n",
       "2    0.724473\n",
       "3    0.700744\n",
       "Name: Accuracy, dtype: float64"
      ]
     },
     "execution_count": 95,
     "metadata": {},
     "output_type": "execute_result"
    }
   ],
   "source": [
    "all_data.groupby(\"num_inter\").mean()[\"Accuracy\"]"
   ]
  },
  {
   "cell_type": "code",
   "execution_count": 96,
   "metadata": {},
   "outputs": [
    {
     "data": {
      "text/plain": [
       "num_inter\n",
       "0    0.092168\n",
       "1    0.128837\n",
       "2    0.140748\n",
       "3    0.129901\n",
       "Name: Accuracy, dtype: float64"
      ]
     },
     "execution_count": 96,
     "metadata": {},
     "output_type": "execute_result"
    }
   ],
   "source": [
    "all_data.groupby(\"num_inter\").std()[\"Accuracy\"]"
   ]
  },
  {
   "cell_type": "code",
   "execution_count": 97,
   "metadata": {},
   "outputs": [
    {
     "data": {
      "text/plain": [
       "([0.7874083333333334,\n",
       "  0.7545428571428572,\n",
       "  0.7239841924398625,\n",
       "  0.7045785714285714],\n",
       " [0.7682833333333333, 0.7238790476190476, 0.6970676975945017, 0.673325])"
      ]
     },
     "execution_count": 97,
     "metadata": {},
     "output_type": "execute_result"
    }
   ],
   "source": [
    "acc_p = all_data.groupby(\"num_inter\").mean()[\"Accuracy - Privileged\"].tolist()\n",
    "acc_u = all_data.groupby(\"num_inter\").mean()[\"Accuracy - Unprivileged\"].tolist()\n",
    "\n",
    "acc_p, acc_u"
   ]
  },
  {
   "cell_type": "code",
   "execution_count": 98,
   "metadata": {},
   "outputs": [
    {
     "name": "stdout",
     "output_type": "stream",
     "text": [
      "[79, 75, 72, 70] [77, 72, 70, 67]\n",
      "[2.62, 1.22, 0.83, 0.8] [3.41, 1.45, 0.91, 0.98]\n"
     ]
    }
   ],
   "source": [
    "acc_p = all_data.groupby(\"num_inter\").mean()[\"Accuracy - Privileged\"].tolist()\n",
    "acc_u = all_data.groupby(\"num_inter\").mean()[\"Accuracy - Unprivileged\"].tolist()\n",
    "\n",
    "acc_p = [round(x*100) for x in acc_p]\n",
    "acc_u = [round(x*100) for x in acc_u]\n",
    "\n",
    "acc_err_p = all_data.groupby(\"num_inter\").std()[\"Accuracy - Privileged\"]/(all_data.groupby(\"num_inter\").size()**0.5).tolist()\n",
    "acc_err_u = all_data.groupby(\"num_inter\").std()[\"Accuracy - Unprivileged\"]/(all_data.groupby(\"num_inter\").size()**0.5).tolist()\n",
    "\n",
    "acc_err_p = [round(x*100,2) for x in acc_err_p]\n",
    "acc_err_u = [round(x*100,2) for x in acc_err_u]\n",
    "\n",
    "print(acc_p, acc_u)\n",
    "print(acc_err_p, acc_err_u)"
   ]
  },
  {
   "cell_type": "code",
   "execution_count": 100,
   "metadata": {},
   "outputs": [
    {
     "data": {
      "image/png": "[encoded data removed]",
      "text/plain": [
       "<Figure size 504x360 with 1 Axes>"
      ]
     },
     "metadata": {
      "needs_background": "light"
     },
     "output_type": "display_data"
    }
   ],
   "source": [
    "xlabels = [\"Zero\", \"One\", \"Two\", \"Three\"]\n",
    "width = 0.35  # the width of the bars\n",
    "x = np.arange(len(xlabels))\n",
    "fig, ax = plt.subplots(figsize=(7, 5))\n",
    "plt.rcParams.update({'font.size': 15})\n",
    "#c1, c2 = 'royalblue', 'darksalmon'\n",
    "c1, c2 = 'royalblue', 'sandybrown'\n",
    "rects1 = ax.bar(x - width/2, f1_p, label='Privileged', yerr=f1_p_err, color=c1, edgecolor=c1, alpha=0.6, width=0.3, linewidth=2, hatch='.')\n",
    "rects2 = ax.bar(x + width/2, f1_u, label='Unprivileged', yerr=f1_u_err, color=c2, edgecolor=c2, alpha=0.6, width=0.3, linewidth=2, hatch='x')\n",
    "\n",
    "# Add some text for labels, title and custom x-axis tick labels, etc.\n",
    "ax.set_ylabel('Mean F1 score', size=15)\n",
    "ax.set_xlabel('Number of Interventions')\n",
    "    #ax.set_title('Change in False Positive Rate across different Interventions for COMPAS dataset', size=16)\n",
    "    #ax.set_title(title, size=16)\n",
    "ax.set_xticks(x, xlabels, rotation = 0, size=15)\n",
    "ax.set_ylim([0, 78])\n",
    "ax.legend(bbox_to_anchor=(0.5, 1.13), loc='upper center', ncol=2)\n",
    "\n",
    "ax.spines['top'].set_visible(False)\n",
    "ax.spines['right'].set_visible(False)\n",
    "ax.spines['left'].set_visible(False)\n",
    "ax.spines['bottom'].set_color('#DDDDDD')\n",
    "#ax.tick_params(bottom=False, left=False)\n",
    "ax.set_axisbelow(True)\n",
    "ax.yaxis.grid(True, color='#EEEEEE')\n",
    "ax.xaxis.grid(False)\n",
    "\n",
    "ax.bar_label(rects1, padding=3)\n",
    "ax.bar_label(rects2, padding=3)\n",
    "\n",
    "fig.tight_layout()\n",
    "#plt.show()\n",
    "fig.savefig('./figures/f1_score.png', dpi=600)"
   ]
  },
  {
   "cell_type": "code",
   "execution_count": 103,
   "metadata": {},
   "outputs": [
    {
     "data": {
      "image/png": "[encoded data removed]",
      "text/plain": [
       "<Figure size 504x360 with 1 Axes>"
      ]
     },
     "metadata": {
      "needs_background": "light"
     },
     "output_type": "display_data"
    }
   ],
   "source": [
    "xlabels = [\"Zero\", \"One\", \"Two\", \"Three\"]\n",
    "width = 0.35  # the width of the bars\n",
    "x = np.arange(len(xlabels))\n",
    "fig, ax = plt.subplots(figsize=(7, 5))\n",
    "plt.rcParams.update({'font.size': 15})\n",
    "#c1, c2 = 'royalblue', 'darksalmon'\n",
    "c1, c2 = 'royalblue', 'sandybrown'\n",
    "rects1 = ax.bar(x - width/2, acc_p, label='Privileged', yerr=acc_err_p, color=c1, edgecolor=c1, alpha=0.6, width=0.3, linewidth=2, hatch='.')\n",
    "rects2 = ax.bar(x + width/2, acc_u, label='Unprivileged', yerr=acc_err_u, color=c2, edgecolor=c2, alpha=0.6, width=0.3, linewidth=2, hatch='x')\n",
    "\n",
    "# Add some text for labels, title and custom x-axis tick labels, etc.\n",
    "ax.set_ylabel('Mean Accuracy score', size=15)\n",
    "ax.set_xlabel('Number of Interventions')\n",
    "    #ax.set_title('Change in False Positive Rate across different Interventions for COMPAS dataset', size=16)\n",
    "    #ax.set_title(title, size=16)\n",
    "ax.set_xticks(x, xlabels, rotation = 0, size=15)\n",
    "ax.set_ylim([0, 92])\n",
    "ax.legend(bbox_to_anchor=(0.5, 1.13), loc='upper center', ncol=2)\n",
    "\n",
    "ax.spines['top'].set_visible(False)\n",
    "ax.spines['right'].set_visible(False)\n",
    "ax.spines['left'].set_visible(False)\n",
    "ax.spines['bottom'].set_color('#DDDDDD')\n",
    "#ax.tick_params(bottom=False, left=False)\n",
    "ax.set_axisbelow(True)\n",
    "ax.yaxis.grid(True, color='#EEEEEE')\n",
    "ax.xaxis.grid(False)\n",
    "\n",
    "ax.bar_label(rects1, padding=3)\n",
    "ax.bar_label(rects2, padding=3)\n",
    "\n",
    "fig.tight_layout()\n",
    "#plt.show()\n",
    "fig.savefig('./figures/accuracy_score.png', dpi=600)"
   ]
  },
  {
   "cell_type": "code",
   "execution_count": null,
   "metadata": {},
   "outputs": [],
   "source": []
  }
 ],
 "metadata": {
  "kernelspec": {
   "display_name": "Python 3 (ipykernel)",
   "language": "python",
   "name": "python3"
  },
  "language_info": {
   "codemirror_mode": {
    "name": "ipython",
    "version": 3
   },
   "file_extension": ".py",
   "mimetype": "text/x-python",
   "name": "python",
   "nbconvert_exporter": "python",
   "pygments_lexer": "ipython3",
   "version": "3.8.12"
  }
 },
 "nbformat": 4,
 "nbformat_minor": 4
}
